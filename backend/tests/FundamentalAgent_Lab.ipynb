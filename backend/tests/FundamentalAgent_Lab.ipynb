{
 "cells": [
  {
   "cell_type": "markdown",
   "metadata": {},
   "source": [
    "# Fundamental Agent 基本面分析測試\n",
    "\n",
    "本測試展示：**基本面分析 Agent 的完整工作流程**\n",
    "\n",
    "使用 5 個自訂基本面分析工具（@function_tool）進行手動測試：\n",
    "- calculate_financial_ratios\n",
    "- analyze_financial_health\n",
    "- evaluate_valuation\n",
    "- analyze_growth_potential\n",
    "- generate_investment_rating"
   ]
  },
  {
   "cell_type": "markdown",
   "metadata": {},
   "source": [
    "## Step 1: 環境設置"
   ]
  },
  {
   "cell_type": "code",
   "execution_count": 1,
   "metadata": {},
   "outputs": [
    {
     "name": "stderr",
     "output_type": "stream",
     "text": [
      "\u001b[32m2025-10-19 18:13:01\u001b[0m | \u001b[1mINFO    \u001b[0m | \u001b[36mcommon.logger\u001b[0m:\u001b[36msetup_logger\u001b[0m:\u001b[36m100\u001b[0m | \u001b[1mLogger initialized with level: INFO\u001b[0m\n",
      "\u001b[32m2025-10-19 18:13:01\u001b[0m | \u001b[1mINFO    \u001b[0m | \u001b[36mcommon.logger\u001b[0m:\u001b[36msetup_logger\u001b[0m:\u001b[36m102\u001b[0m | \u001b[1mLogging to file: /Users/sacahan/Documents/workspace/CasualTrader/backend/logs/casualtrader.log\u001b[0m\n"
     ]
    },
    {
     "name": "stdout",
     "output_type": "stream",
     "text": [
      "✓ 環境設置完成\n"
     ]
    }
   ],
   "source": [
    "import sys\n",
    "from pathlib import Path\n",
    "from dotenv import load_dotenv\n",
    "\n",
    "from agents import (\n",
    "    Runner,\n",
    "    gen_trace_id,\n",
    "    trace,\n",
    "    WebSearchTool,\n",
    "    CodeInterpreterTool,\n",
    ")\n",
    "from agents.mcp import MCPServerStdio\n",
    "\n",
    "load_dotenv()\n",
    "\n",
    "project_root = Path.cwd().parent.parent\n",
    "sys.path.insert(0, str(project_root / 'backend' / 'src'))\n",
    "\n",
    "from common.logger import logger\n",
    "\n",
    "print('✓ 環境設置完成')"
   ]
  },
  {
   "cell_type": "markdown",
   "metadata": {},
   "source": [
    "## Step 2: 導入必要的模組"
   ]
  },
  {
   "cell_type": "code",
   "execution_count": 2,
   "metadata": {},
   "outputs": [
    {
     "name": "stdout",
     "output_type": "stream",
     "text": [
      "✓ 模組導入完成\n"
     ]
    }
   ],
   "source": [
    "from trading.tools.fundamental_agent import (\n",
    "    get_fundamental_agent,\n",
    ")\n",
    "\n",
    "print('✓ 模組導入完成')"
   ]
  },
  {
   "cell_type": "markdown",
   "metadata": {},
   "source": [
    "## Step 3: 初始化 OpenAI 內建工具"
   ]
  },
  {
   "cell_type": "code",
   "execution_count": 3,
   "metadata": {},
   "outputs": [],
   "source": [
    "# WebSearchTool: 提供網路搜尋功能\n",
    "web_search_tool = WebSearchTool(\n",
    "    user_location=None,  # 可選：用戶位置，用於本地化搜尋結果\n",
    "    filters=None,  # 可選：搜尋過濾器\n",
    "    search_context_size=\"medium\",  # 搜尋上下文大小：'low'、'medium'、'high'\n",
    ")\n",
    "\n",
    "# CodeInterpreterTool: 提供程式碼執行功能\n",
    "# 必須指定 type 和 container 設置，container.type 必須為 \"auto\"\n",
    "code_interpreter_tool = CodeInterpreterTool(\n",
    "    tool_config={\n",
    "        \"type\": \"code_interpreter\",\n",
    "        \"container\": {\n",
    "            \"type\": \"auto\"  # OpenAI 自動選擇最適合的容器\n",
    "        },\n",
    "    }\n",
    ")\n",
    "\n",
    "openai_tools = [web_search_tool, code_interpreter_tool]"
   ]
  },
  {
   "cell_type": "markdown",
   "metadata": {},
   "source": [
    "## Step 4: 初始化 MCP Servers"
   ]
  },
  {
   "cell_type": "code",
   "execution_count": 4,
   "metadata": {},
   "outputs": [
    {
     "name": "stdout",
     "output_type": "stream",
     "text": [
      "✓ MCP Servers 已連接\n"
     ]
    }
   ],
   "source": [
    "# 全局變量來管理 MCP servers\n",
    "casual_market_mcp = None\n",
    "mcp_memory = None\n",
    "mcp_servers = []\n",
    "\n",
    "async def setup_mcp_servers():\n",
    "    \"\"\"設置 MCP servers\"\"\"\n",
    "    global casual_market_mcp, mcp_memory, mcp_servers\n",
    "    \n",
    "    # 清理舊的連接\n",
    "    if casual_market_mcp:\n",
    "        try:\n",
    "            await casual_market_mcp.__aexit__(None, None, None)\n",
    "        except:\n",
    "            pass\n",
    "    \n",
    "    if mcp_memory:\n",
    "        try:\n",
    "            await mcp_memory.__aexit__(None, None, None)\n",
    "        except:\n",
    "            pass\n",
    "    \n",
    "    # 初始化 casual-market-mcp\n",
    "    casual_market_mcp = MCPServerStdio(\n",
    "        params={\n",
    "            \"command\": \"uvx\",\n",
    "            \"args\": [\n",
    "                \"--from\",\n",
    "                \"/Users/sacahan/Documents/workspace/CasualMarket\",\n",
    "                \"casual-market-mcp\",\n",
    "            ],\n",
    "        }, \n",
    "        name=\"casual_market_mcp\", \n",
    "        client_session_timeout_seconds=120  # 增加超時時間\n",
    "    )\n",
    "    \n",
    "    # 初始化 mcp-memory-libsql\n",
    "    mcp_memory = MCPServerStdio(\n",
    "        params={\n",
    "            \"command\": \"npx\",\n",
    "            \"args\": [\"-y\", \"mcp-memory-libsql\"],\n",
    "            \"env\": {\"LIBSQL_URL\": \"file:./labs/fundamental_agent.db\"},\n",
    "        },\n",
    "        name=\"mcp_memory\",\n",
    "        client_session_timeout_seconds=120,  # 增加超時時間\n",
    "    )\n",
    "    \n",
    "    # 連接 servers\n",
    "    await casual_market_mcp.__aenter__()\n",
    "    await mcp_memory.__aenter__()\n",
    "    \n",
    "    mcp_servers = [casual_market_mcp, mcp_memory]\n",
    "    print('✓ MCP Servers 已連接')\n",
    "\n",
    "await setup_mcp_servers()"
   ]
  },
  {
   "cell_type": "markdown",
   "metadata": {},
   "source": [
    "## Step 5: 初始化 Fundamental Agent"
   ]
  },
  {
   "cell_type": "code",
   "execution_count": 5,
   "metadata": {},
   "outputs": [
    {
     "name": "stderr",
     "output_type": "stream",
     "text": [
      "\u001b[32m2025-10-19 18:13:50\u001b[0m | \u001b[1mINFO    \u001b[0m | \u001b[36mtrading.tools.fundamental_agent\u001b[0m:\u001b[36mget_fundamental_agent\u001b[0m:\u001b[36m583\u001b[0m | \u001b[1mget_fundamental_agent() called with model=gpt-4o-mini\u001b[0m\n",
      "\u001b[32m2025-10-19 18:13:50\u001b[0m | \u001b[1mINFO    \u001b[0m | \u001b[36mtrading.tools.fundamental_agent\u001b[0m:\u001b[36mget_fundamental_agent\u001b[0m:\u001b[36m598\u001b[0m | \u001b[1mCreating Agent with model=gpt-4o-mini, mcp_servers=2, tools=7\u001b[0m\n",
      "\u001b[32m2025-10-19 18:13:50\u001b[0m | \u001b[1mINFO    \u001b[0m | \u001b[36mtrading.tools.fundamental_agent\u001b[0m:\u001b[36mget_fundamental_agent\u001b[0m:\u001b[36m613\u001b[0m | \u001b[1mFundamental Analyst Agent created successfully\u001b[0m\n"
     ]
    },
    {
     "name": "stdout",
     "output_type": "stream",
     "text": [
      "✓ Fundamental Agent 已初始化\n"
     ]
    }
   ],
   "source": [
    "# 創建基本面分析 Agent\n",
    "fundamental_agent = await get_fundamental_agent(\n",
    "    model_name=\"gpt-4o-mini\",\n",
    "    mcp_servers=mcp_servers,\n",
    "    openai_tools=openai_tools,\n",
    "    max_turns=15,\n",
    ")\n",
    "\n",
    "print('✓ Fundamental Agent 已初始化')"
   ]
  },
  {
   "cell_type": "markdown",
   "metadata": {},
   "source": [
    "## 測試 1: 單一公司基本面分析"
   ]
  },
  {
   "cell_type": "code",
   "execution_count": null,
   "metadata": {},
   "outputs": [],
   "source": [
    "async def test_single_company_analysis():\n",
    "    print('\\n' + '='*70)\n",
    "    print('測試 1: 單一公司基本面分析 - 台積電 (2330)')\n",
    "    print('='*70)\n",
    "    \n",
    "    prompt = '''請分析台積電 (2330) 的基本面。\n",
    "    \n",
    "最新財務數據：\n",
    "- 營收：新台幣 250 億元\n",
    "- 淨利：新台幣 50 億元\n",
    "- 總資產：新台幣 1,200 億元\n",
    "- 股東權益：新台幣 600 億元\n",
    "- 市值：新台幣 10,000 億元\n",
    "- 目前股價：新台幣 450 元\n",
    "\n",
    "請進行以下分析：\n",
    "1. 計算主要財務比率 (ROE, ROA, 淨利率)\n",
    "2. 評估財務體質健全度\n",
    "3. 評估當前估值水準\n",
    "4. 分析成長潛力\n",
    "5. 最後給出投資評級和建議'''\n",
    "    \n",
    "    print(f'\\n用戶提示:\\n{prompt}')\n",
    "    print('\\n→ Agent 執行分析...')\n",
    "    print('-' * 70)\n",
    "    \n",
    "    trace_id = gen_trace_id()\n",
    "    try:\n",
    "        with trace(workflow_name=\"fundamental_agent_lab\", trace_id=trace_id):\n",
    "            result = await Runner.run(fundamental_agent, prompt, max_turns=15)\n",
    "    \n",
    "        print('-' * 70)\n",
    "        print('\\nAgent 分析結果:')\n",
    "        print(result.final_output)\n",
    "        \n",
    "        return result\n",
    "    except Exception as e:\n",
    "        print(f\"執行錯誤: {e}\")\n",
    "        print(f\"錯誤類型: {type(e).__name__}\")\n",
    "        return None\n",
    "\n",
    "result_1 = await test_single_company_analysis()"
   ]
  },
  {
   "cell_type": "markdown",
   "metadata": {},
   "source": [
    "## 測試 2: 完整 Agent 工作流程 - 多公司對比"
   ]
  },
  {
   "cell_type": "code",
   "execution_count": 6,
   "metadata": {},
   "outputs": [
    {
     "name": "stdout",
     "output_type": "stream",
     "text": [
      "\n",
      "======================================================================\n",
      "測試 2: 完整 Agent 工作流程 - 多公司對比分析\n",
      "======================================================================\n",
      "\n",
      "用戶提示:\n",
      "比較以下三家科技公司的基本面：\n",
      "\n",
      "公司 A (2330)：\n",
      "- ROE: 25%\n",
      "- PE 比率: 20 倍\n",
      "- 淨利潤率: 18%\n",
      "- 營收成長: 15%\n",
      "- EPS 成長: 18%\n",
      "\n",
      "公司 B (2454)：\n",
      "- ROE: 18%\n",
      "- PE 比率: 25 倍\n",
      "- 淨利潤率: 14%\n",
      "- 營收成長: 22%\n",
      "- EPS 成長: 28%\n",
      "\n",
      "公司 C (3680)：\n",
      "- ROE: 15%\n",
      "- PE 比率: 35 倍\n",
      "- 淨利潤率: 10%\n",
      "- 營收成長: 8%\n",
      "- EPS 成長: 5%\n",
      "\n",
      "請分析：\n",
      "1. 各公司的優劣勢\n",
      "2. 估值的相對吸引力\n",
      "3. 成長潛力排名\n",
      "4. 投資建議排序\n",
      "5. 風險評估\n",
      "\n",
      "→ Agent 執行分析...\n",
      "----------------------------------------------------------------------\n"
     ]
    },
    {
     "name": "stderr",
     "output_type": "stream",
     "text": [
      "\u001b[32m2025-10-19 18:14:03\u001b[0m | \u001b[1mINFO    \u001b[0m | \u001b[36mhttpx._client\u001b[0m:\u001b[36m_send_single_request\u001b[0m:\u001b[36m1740\u001b[0m | \u001b[1mHTTP Request: POST https://api.openai.com/v1/responses \"HTTP/1.1 200 OK\"\u001b[0m\n",
      "\u001b[32m2025-10-19 18:14:04\u001b[0m | \u001b[1mINFO    \u001b[0m | \u001b[36mtrading.tools.fundamental_agent\u001b[0m:\u001b[36mcalculate_financial_ratios\u001b[0m:\u001b[36m228\u001b[0m | \u001b[1m開始計算財務比率 | 股票: 2330\u001b[0m\n",
      "\u001b[32m2025-10-19 18:14:04\u001b[0m | \u001b[1mINFO    \u001b[0m | \u001b[36mtrading.tools.fundamental_agent\u001b[0m:\u001b[36mcalculate_financial_ratios\u001b[0m:\u001b[36m274\u001b[0m | \u001b[1m財務比率計算完成 | 股票: 2330\u001b[0m\n",
      "\u001b[32m2025-10-19 18:14:05\u001b[0m | \u001b[1mINFO    \u001b[0m | \u001b[36mhttpx._client\u001b[0m:\u001b[36m_send_single_request\u001b[0m:\u001b[36m1025\u001b[0m | \u001b[1mHTTP Request: POST https://api.openai.com/v1/traces/ingest \"HTTP/1.1 204 No Content\"\u001b[0m\n",
      "\u001b[32m2025-10-19 18:14:10\u001b[0m | \u001b[1mINFO    \u001b[0m | \u001b[36mhttpx._client\u001b[0m:\u001b[36m_send_single_request\u001b[0m:\u001b[36m1740\u001b[0m | \u001b[1mHTTP Request: POST https://api.openai.com/v1/responses \"HTTP/1.1 200 OK\"\u001b[0m\n",
      "\u001b[32m2025-10-19 18:14:11\u001b[0m | \u001b[1mINFO    \u001b[0m | \u001b[36mtrading.tools.fundamental_agent\u001b[0m:\u001b[36mcalculate_financial_ratios\u001b[0m:\u001b[36m228\u001b[0m | \u001b[1m開始計算財務比率 | 股票: 2454\u001b[0m\n",
      "\u001b[32m2025-10-19 18:14:11\u001b[0m | \u001b[1mINFO    \u001b[0m | \u001b[36mtrading.tools.fundamental_agent\u001b[0m:\u001b[36mcalculate_financial_ratios\u001b[0m:\u001b[36m274\u001b[0m | \u001b[1m財務比率計算完成 | 股票: 2454\u001b[0m\n",
      "\u001b[32m2025-10-19 18:14:14\u001b[0m | \u001b[1mINFO    \u001b[0m | \u001b[36mhttpx._client\u001b[0m:\u001b[36m_send_single_request\u001b[0m:\u001b[36m1740\u001b[0m | \u001b[1mHTTP Request: POST https://api.openai.com/v1/responses \"HTTP/1.1 200 OK\"\u001b[0m\n",
      "\u001b[32m2025-10-19 18:14:15\u001b[0m | \u001b[1mINFO    \u001b[0m | \u001b[36mtrading.tools.fundamental_agent\u001b[0m:\u001b[36mcalculate_financial_ratios\u001b[0m:\u001b[36m228\u001b[0m | \u001b[1m開始計算財務比率 | 股票: 3680\u001b[0m\n",
      "\u001b[32m2025-10-19 18:14:15\u001b[0m | \u001b[1mINFO    \u001b[0m | \u001b[36mtrading.tools.fundamental_agent\u001b[0m:\u001b[36mcalculate_financial_ratios\u001b[0m:\u001b[36m274\u001b[0m | \u001b[1m財務比率計算完成 | 股票: 3680\u001b[0m\n",
      "\u001b[32m2025-10-19 18:14:16\u001b[0m | \u001b[1mINFO    \u001b[0m | \u001b[36mhttpx._client\u001b[0m:\u001b[36m_send_single_request\u001b[0m:\u001b[36m1025\u001b[0m | \u001b[1mHTTP Request: POST https://api.openai.com/v1/traces/ingest \"HTTP/1.1 204 No Content\"\u001b[0m\n",
      "\u001b[32m2025-10-19 18:14:29\u001b[0m | \u001b[1mINFO    \u001b[0m | \u001b[36mhttpx._client\u001b[0m:\u001b[36m_send_single_request\u001b[0m:\u001b[36m1740\u001b[0m | \u001b[1mHTTP Request: POST https://api.openai.com/v1/responses \"HTTP/1.1 200 OK\"\u001b[0m\n"
     ]
    },
    {
     "name": "stdout",
     "output_type": "stream",
     "text": [
      "----------------------------------------------------------------------\n",
      "\n",
      "Agent 分析結果:\n",
      "### 1. 各公司的優劣勢分析\n",
      "\n",
      "#### 公司 A (2330)\n",
      "**優勢:**\n",
      "- **高 ROE (25%)**：顯示公司在股東權益上的獲利能力強。\n",
      "- **合理 PE 比率 (20 倍)**：在同行業中，相對較低的 P/E 比率，顯示估值合理。\n",
      "\n",
      "**劣勢:**\n",
      "- 營收成長率 (15%) 和 EPS 成長 (18%) 雖然不低，但相對於競爭對手不算特出。\n",
      "\n",
      "#### 公司 B (2454)\n",
      "**優勢:**\n",
      "- **高營收成長 (22%) 和 EPS 成長 (28%)**：顯示未來潛力強勁，市場需求良好。\n",
      "- 雖然 ROE (18%) 和淨利潤率 (14%) 比較低，但仍在行業中表現良好。\n",
      "\n",
      "**劣勢:**\n",
      "- **高 PE 比率 (25 倍)**：顯示市場對其未來增長前景的高期待，也會帶來較高的估值風險。\n",
      "\n",
      "#### 公司 C (3680)\n",
      "**優勢:**\n",
      "- 營收成長和 EPS 成長穩定，提供可靠的收益來源。\n",
      "\n",
      "**劣勢:**\n",
      "- **低 ROE (15%) 和淨利潤率 (10%)**：顯示獲利能力較弱。\n",
      "- **高 PE 比率 (35 倍)**：顯示投資者對其未來展望的期望過高，相對風險增加。\n",
      "\n",
      "---\n",
      "\n",
      "### 2. 估值的相對吸引力\n",
      "- **公司 A (2330)**：PE 比率 (20 倍) 是三家公司中最低，顯示評價相對便宜。\n",
      "- **公司 B (2454)**：PE 比率 (25 倍)，比公司 A 更高，但若他們的增長實現，仍可接受。\n",
      "- **公司 C (3680)**：PE 比率 (35 倍) 明顯過高，需謹慎。\n",
      "\n",
      "### 3. 成長潛力排名\n",
      "1. **公司 B (2454)**：最高的營收和 EPS 成長率，潛力大。\n",
      "2. **公司 A (2330)**：穩定的成長，雖然增長較慢但仍有可觀的未來。\n",
      "3. **公司 C (3680)**：最低的成長率，潛力有限。\n",
      "\n",
      "### 4. 投資建議排序\n",
      "1. **公司 B (2454)**：看好其成長潛力，強烈建議買入。\n",
      "2. **公司 A (2330)**：在合理價位及穩定獲利，建議持有。\n",
      "3. **公司 C (3680)**：估值過高且成長疲弱，建議避免或賣出。\n",
      "\n",
      "### 5. 風險評估\n",
      "- **公司 A (2330)**：風險較低，但需注意市場變化與業績放緩可能性。\n",
      "- **公司 B (2454)**：高增長伴隨高估值風險，若未達預期將影響股價。\n",
      "- **公司 C (3680)**：相對高的估值與低成長潛力需謹慎，未來可能面臨較大回調風險。\n",
      "\n",
      "---\n",
      "\n",
      "整體來看，根據基本面指標分析，公司 B 的前景最為明朗，但投資仍需仔細評量。\n"
     ]
    },
    {
     "name": "stderr",
     "output_type": "stream",
     "text": [
      "\u001b[32m2025-10-19 18:14:31\u001b[0m | \u001b[1mINFO    \u001b[0m | \u001b[36mhttpx._client\u001b[0m:\u001b[36m_send_single_request\u001b[0m:\u001b[36m1025\u001b[0m | \u001b[1mHTTP Request: POST https://api.openai.com/v1/traces/ingest \"HTTP/1.1 204 No Content\"\u001b[0m\n"
     ]
    }
   ],
   "source": [
    "async def test_multi_company_comparison():\n",
    "    print('\\n' + '='*70)\n",
    "    print('測試 2: 完整 Agent 工作流程 - 多公司對比分析')\n",
    "    print('='*70)\n",
    "    \n",
    "    prompt = '''比較以下三家科技公司的基本面：\n",
    "    \n",
    "公司 A (2330)：\n",
    "- ROE: 25%\n",
    "- PE 比率: 20 倍\n",
    "- 淨利潤率: 18%\n",
    "- 營收成長: 15%\n",
    "- EPS 成長: 18%\n",
    "\n",
    "公司 B (2454)：\n",
    "- ROE: 18%\n",
    "- PE 比率: 25 倍\n",
    "- 淨利潤率: 14%\n",
    "- 營收成長: 22%\n",
    "- EPS 成長: 28%\n",
    "\n",
    "公司 C (3680)：\n",
    "- ROE: 15%\n",
    "- PE 比率: 35 倍\n",
    "- 淨利潤率: 10%\n",
    "- 營收成長: 8%\n",
    "- EPS 成長: 5%\n",
    "\n",
    "請分析：\n",
    "1. 各公司的優劣勢\n",
    "2. 估值的相對吸引力\n",
    "3. 成長潛力排名\n",
    "4. 投資建議排序\n",
    "5. 風險評估'''\n",
    "    \n",
    "    print(f'\\n用戶提示:\\n{prompt}')\n",
    "    print('\\n→ Agent 執行分析...')\n",
    "    print('-' * 70)\n",
    "    \n",
    "    trace_id = gen_trace_id()\n",
    "    try:\n",
    "        with trace(workflow_name=\"fundamental_agent_lab\", trace_id=trace_id):\n",
    "            result = await Runner.run(fundamental_agent, prompt, max_turns=15)\n",
    "    \n",
    "        print('-' * 70)\n",
    "        print('\\nAgent 分析結果:')\n",
    "        print(result.final_output)\n",
    "        \n",
    "        return result\n",
    "    except Exception as e:\n",
    "        print(f\"執行錯誤: {e}\")\n",
    "        print(f\"錯誤類型: {type(e).__name__}\")\n",
    "        return None\n",
    "\n",
    "result_2 = await test_multi_company_comparison()"
   ]
  },
  {
   "cell_type": "markdown",
   "metadata": {},
   "source": [
    "## 測試 3: 完整 Agent 工作流程 - 綜合基本面評估"
   ]
  },
  {
   "cell_type": "code",
   "execution_count": null,
   "metadata": {},
   "outputs": [],
   "source": [
    "async def test_comprehensive_fundamental_analysis():\n",
    "    print('\\n' + '='*70)\n",
    "    print('測試 3: 完整 Agent 工作流程 - 綜合基本面評估')\n",
    "    print('='*70)\n",
    "    \n",
    "    prompt = '''進行完整的公司基本面綜合評估。\n",
    "    \n",
    "公司背景：\n",
    "- 產業：半導體\n",
    "- 市場地位：全球領導者\n",
    "- 營運歷史：20 年以上\n",
    "\n",
    "財務狀況：\n",
    "- 三年平均 ROE: 22%\n",
    "- 淨債務比：0.2\n",
    "- 現金流狀況：強勁\n",
    "- 股利政策：持續分配\n",
    "\n",
    "市場評價：\n",
    "- 當前 PE 比率：18 倍\n",
    "- 產業平均 PE：20 倍\n",
    "- 過去 1 年股價表現：+30%\n",
    "- 技術分析：上升趨勢\n",
    "\n",
    "發展前景：\n",
    "- AI 芯片需求激增\n",
    "- 產能擴充計畫\n",
    "- 海外市場拓展\n",
    "\n",
    "請進行全面的基本面評估，結合所有因素給出綜合投資評級和長期持有建議。'''\n",
    "    \n",
    "    print(f'\\n用戶提示:\\n{prompt}')\n",
    "    print('\\n→ Agent 執行綜合分析...')\n",
    "    print('-' * 70)\n",
    "    \n",
    "    trace_id = gen_trace_id()\n",
    "    try:\n",
    "        with trace(workflow_name=\"fundamental_agent_lab\", trace_id=trace_id):\n",
    "            result = await Runner.run(fundamental_agent, prompt, max_turns=15)\n",
    "    \n",
    "        print('-' * 70)\n",
    "        print('\\nAgent 分析結果:')\n",
    "        print(result.final_output)\n",
    "        \n",
    "        return result\n",
    "    except Exception as e:\n",
    "        print(f\"執行錯誤: {e}\")\n",
    "        print(f\"錯誤類型: {type(e).__name__}\")\n",
    "        return None\n",
    "    \n",
    "    return result\n",
    "\n",
    "result_3 = await test_comprehensive_fundamental_analysis()"
   ]
  },
  {
   "cell_type": "markdown",
   "metadata": {},
   "source": [
    "## 清理資源"
   ]
  },
  {
   "cell_type": "code",
   "execution_count": null,
   "metadata": {},
   "outputs": [],
   "source": [
    "async def cleanup_mcp_servers():\n",
    "    \"\"\"清理 MCP servers 連接\"\"\"\n",
    "    global casual_market_mcp, mcp_memory\n",
    "    \n",
    "    try:\n",
    "        if casual_market_mcp:\n",
    "            await casual_market_mcp.__aexit__(None, None, None)\n",
    "            print('✓ casual_market_mcp 已關閉')\n",
    "        \n",
    "        if mcp_memory:\n",
    "            await mcp_memory.__aexit__(None, None, None)\n",
    "            print('✓ mcp_memory 已關閉')\n",
    "            \n",
    "        print('✓ 所有 MCP servers 已清理完成')\n",
    "        \n",
    "    except Exception as e:\n",
    "        print(f'清理過程中發生錯誤: {e}')\n",
    "\n",
    "# 測試完成後執行清理\n",
    "await cleanup_mcp_servers()"
   ]
  }
 ],
 "metadata": {
  "kernelspec": {
   "display_name": ".venv",
   "language": "python",
   "name": "python3"
  },
  "language_info": {
   "codemirror_mode": {
    "name": "ipython",
    "version": 3
   },
   "file_extension": ".py",
   "mimetype": "text/x-python",
   "name": "python",
   "nbconvert_exporter": "python",
   "pygments_lexer": "ipython3",
   "version": "3.11.13"
  }
 },
 "nbformat": 4,
 "nbformat_minor": 4
}
