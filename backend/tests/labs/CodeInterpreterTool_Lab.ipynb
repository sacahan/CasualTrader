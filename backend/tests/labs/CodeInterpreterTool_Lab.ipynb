{
 "cells": [
  {
   "cell_type": "markdown",
   "metadata": {},
   "source": [
    "# CodeInterpreterTool 程式碼執行測試\n",
    "\n",
    "本測試展示：**讓 CodeInterpreterTool 工具實際執行程式碼**\n",
    "\n",
    "## 核心概念\n",
    "- Agent 收到用戶提示\n",
    "- Agent 判斷是否需要使用 CodeInterpreterTool\n",
    "- Agent 調用 CodeInterpreterTool 執行 Python 程式碼\n",
    "- Agent 返回計算結果"
   ]
  },
  {
   "cell_type": "markdown",
   "metadata": {},
   "source": [
    "## Step 1: 環境設置"
   ]
  },
  {
   "cell_type": "code",
   "execution_count": 29,
   "metadata": {},
   "outputs": [
    {
     "name": "stdout",
     "output_type": "stream",
     "text": [
      "✓ 環境設置完成\n"
     ]
    }
   ],
   "source": [
    "import os, sys, asyncio\n",
    "from pathlib import Path\n",
    "from dotenv import load_dotenv\n",
    "\n",
    "load_dotenv()\n",
    "project_root = Path.cwd().parent.parent\n",
    "sys.path.insert(0, str(project_root / 'backend' / 'src'))\n",
    "\n",
    "print('✓ 環境設置完成')"
   ]
  },
  {
   "cell_type": "markdown",
   "metadata": {},
   "source": [
    "## Step 2: 配置 CodeInterpreterTool"
   ]
  },
  {
   "cell_type": "code",
   "execution_count": null,
   "metadata": {},
   "outputs": [
    {
     "name": "stdout",
     "output_type": "stream",
     "text": [
      "✓ CodeInterpreterTool 配置完成\n",
      "  工具: code_interpreter\n",
      "  類型: code_interpreter\n",
      "  容器: auto\n"
     ]
    }
   ],
   "source": [
    "from agents import Agent, CodeInterpreterTool, Runner\n",
    "\n",
    "# ✅ 正確配置方式\n",
    "# CodeInterpreterTool 需要完整的 tool_config，包括 type 和 container 設置\n",
    "code_tool = CodeInterpreterTool(\n",
    "    tool_config={\n",
    "        \"type\": \"code_interpreter\",\n",
    "        \"container\": {\n",
    "            \"type\": \"auto\"  # 容器類型必須是 'auto'\n",
    "        }\n",
    "    }\n",
    ")\n",
    "\n",
    "print('✓ CodeInterpreterTool 配置完成')\n",
    "print(f'  工具: {code_tool.name}')\n",
    "print('  類型: code_interpreter')\n",
    "print('  容器: auto')"
   ]
  },
  {
   "cell_type": "markdown",
   "metadata": {},
   "source": [
    "## Step 3: 建立 Agent"
   ]
  },
  {
   "cell_type": "code",
   "execution_count": 31,
   "metadata": {},
   "outputs": [
    {
     "name": "stdout",
     "output_type": "stream",
     "text": [
      "✓ Agent 建立成功\n"
     ]
    }
   ],
   "source": [
    "agent = Agent(\n",
    "    name='DataAnalystAgent',\n",
    "    model='gpt-4o-mini',\n",
    "    tools=[code_tool],\n",
    "    instructions='你是數據分析專家。當用戶要求計算時，使用 CodeInterpreterTool 執行 Python 程式碼。'\n",
    ")\n",
    "\n",
    "print('✓ Agent 建立成功')"
   ]
  },
  {
   "cell_type": "markdown",
   "metadata": {},
   "source": [
    "## 測試 1: 投資組合計算"
   ]
  },
  {
   "cell_type": "code",
   "execution_count": 32,
   "metadata": {},
   "outputs": [
    {
     "name": "stdout",
     "output_type": "stream",
     "text": [
      "======================================================================\n",
      "測試 1: CodeInterpreterTool 執行投資組合計算\n",
      "======================================================================\n",
      "\n",
      "用戶提示: 計算投資組合預期報酬率：\n",
      "    - 股票: 30%, 報酬 8%\n",
      "    - 債券: 50%, 報酬 5%\n",
      "    - 現金: 20%, 報酬 3%\n",
      "    用 Python 計算投資組合預期年報酬率。\n",
      "\n",
      "→ Agent 使用 CodeInterpreterTool 執行...\n",
      "\n",
      "結果:\n",
      "投資組合的預期年報酬率為 5.5%。\n",
      "結果:\n",
      "投資組合的預期年報酬率為 5.5%。\n"
     ]
    }
   ],
   "source": [
    "async def test_1():\n",
    "    print('='*70)\n",
    "    print('測試 1: CodeInterpreterTool 執行投資組合計算')\n",
    "    print('='*70)\n",
    "    \n",
    "    prompt = '''計算投資組合預期報酬率：\n",
    "    - 股票: 30%, 報酬 8%\n",
    "    - 債券: 50%, 報酬 5%\n",
    "    - 現金: 20%, 報酬 3%\n",
    "    用 Python 計算投資組合預期年報酬率。'''\n",
    "    \n",
    "    print(f'\\n用戶提示: {prompt}')\n",
    "    print('\\n→ Agent 使用 CodeInterpreterTool 執行...\\n')\n",
    "    \n",
    "    result = await Runner.run(agent, prompt)\n",
    "    print(f'結果:\\n{result.final_output}')\n",
    "\n",
    "await test_1()"
   ]
  },
  {
   "cell_type": "markdown",
   "metadata": {},
   "source": [
    "## 測試 2: 統計分析"
   ]
  },
  {
   "cell_type": "code",
   "execution_count": 33,
   "metadata": {},
   "outputs": [
    {
     "name": "stdout",
     "output_type": "stream",
     "text": [
      "\n",
      "======================================================================\n",
      "測試 2: CodeInterpreterTool 執行統計分析\n",
      "======================================================================\n",
      "\n",
      "用戶提示: 生成 100 天的股票收益數據（日報酬率 ~ N(0.05%, 2%)），計算：\n",
      "    1. 平均日報酬率\n",
      "    2. 日報酬率標準差\n",
      "    3. 年化夏普比率\n",
      "    用 NumPy 執行。\n",
      "\n",
      "→ Agent 使用 CodeInterpreterTool 執行...\n",
      "\n",
      "結果:\n",
      "根據生成的 100 天股票收益數據，計算結果如下：\n",
      "\n",
      "1. **平均日報酬率**: -0.0016（約 -0.16%）\n",
      "2. **日報酬率標準差**: 0.0181（約 1.81%）\n",
      "3. **年化夏普比率**: -0.8726\n",
      "\n",
      "這些數據表明，在這段時間內，平均日報酬率是負的，並且年化夏普比率也顯示出風險調整後的收益表現不佳。\n",
      "結果:\n",
      "根據生成的 100 天股票收益數據，計算結果如下：\n",
      "\n",
      "1. **平均日報酬率**: -0.0016（約 -0.16%）\n",
      "2. **日報酬率標準差**: 0.0181（約 1.81%）\n",
      "3. **年化夏普比率**: -0.8726\n",
      "\n",
      "這些數據表明，在這段時間內，平均日報酬率是負的，並且年化夏普比率也顯示出風險調整後的收益表現不佳。\n"
     ]
    }
   ],
   "source": [
    "async def test_2():\n",
    "    print('\\n' + '='*70)\n",
    "    print('測試 2: CodeInterpreterTool 執行統計分析')\n",
    "    print('='*70)\n",
    "    \n",
    "    prompt = '''生成 100 天的股票收益數據（日報酬率 ~ N(0.05%, 2%)），計算：\n",
    "    1. 平均日報酬率\n",
    "    2. 日報酬率標準差\n",
    "    3. 年化夏普比率\n",
    "    用 NumPy 執行。'''\n",
    "    \n",
    "    print(f'\\n用戶提示: {prompt}')\n",
    "    print('\\n→ Agent 使用 CodeInterpreterTool 執行...\\n')\n",
    "    \n",
    "    result = await Runner.run(agent, prompt)\n",
    "    print(f'結果:\\n{result.final_output}')\n",
    "\n",
    "await test_2()"
   ]
  },
  {
   "cell_type": "markdown",
   "metadata": {},
   "source": [
    "## 測試 3: DCF 估值"
   ]
  },
  {
   "cell_type": "code",
   "execution_count": 34,
   "metadata": {},
   "outputs": [
    {
     "name": "stdout",
     "output_type": "stream",
     "text": [
      "\n",
      "======================================================================\n",
      "測試 3: CodeInterpreterTool 執行 DCF 財務模型\n",
      "======================================================================\n",
      "\n",
      "用戶提示: 執行 DCF 估值模型：\n",
      "    - 基年 FCF: 1000M\n",
      "    - 預測期增長: 5%\n",
      "    - 永續成長: 3%\n",
      "    - WACC: 8%\n",
      "    計算 5 年預測的 FCF、折現因子、現值，和企業總價值。用 Pandas 建表。\n",
      "\n",
      "→ Agent 使用 CodeInterpreterTool 執行...\n",
      "\n",
      "結果:\n",
      "這是基於 DCF 估值模型的計算表：\n",
      "\n",
      "| Year     | FCF (M)       | Discount Factor | Present Value (M)    |\n",
      "|----------|---------------|-----------------|-----------------------|\n",
      "| 1        | 1050.00       | 0.925926        | 972.22                |\n",
      "| 2        | 1102.50       | 0.857339        | 945.22                |\n",
      "| 3        | 1157.63       | 0.793832        | 918.96                |\n",
      "| 4        | 1215.51       | 0.735030        | 893.43                |\n",
      "| 5        | 1276.28       | 0.680583        | 868.62                |\n",
      "| Terminal | 26291.40      | 0.680583        | 17893.49              |\n",
      "| Total Enterprise Value (M) | | | 22491.93              |\n",
      "\n",
      "### 總企業價值：\n",
      "- **總企業價值 (M)**: 22491.93\n",
      "\n",
      "如需保存此表格或進行進一步分析，請告訴我！\n",
      "結果:\n",
      "這是基於 DCF 估值模型的計算表：\n",
      "\n",
      "| Year     | FCF (M)       | Discount Factor | Present Value (M)    |\n",
      "|----------|---------------|-----------------|-----------------------|\n",
      "| 1        | 1050.00       | 0.925926        | 972.22                |\n",
      "| 2        | 1102.50       | 0.857339        | 945.22                |\n",
      "| 3        | 1157.63       | 0.793832        | 918.96                |\n",
      "| 4        | 1215.51       | 0.735030        | 893.43                |\n",
      "| 5        | 1276.28       | 0.680583        | 868.62                |\n",
      "| Terminal | 26291.40      | 0.680583        | 17893.49              |\n",
      "| Total Enterprise Value (M) | | | 22491.93              |\n",
      "\n",
      "### 總企業價值：\n",
      "- **總企業價值 (M)**: 22491.93\n",
      "\n",
      "如需保存此表格或進行進一步分析，請告訴我！\n"
     ]
    }
   ],
   "source": [
    "async def test_3():\n",
    "    print('\\n' + '='*70)\n",
    "    print('測試 3: CodeInterpreterTool 執行 DCF 財務模型')\n",
    "    print('='*70)\n",
    "    \n",
    "    prompt = '''執行 DCF 估值模型：\n",
    "    - 基年 FCF: 1000M\n",
    "    - 預測期增長: 5%\n",
    "    - 永續成長: 3%\n",
    "    - WACC: 8%\n",
    "    計算 5 年預測的 FCF、折現因子、現值，和企業總價值。用 Pandas 建表。'''\n",
    "    \n",
    "    print(f'\\n用戶提示: {prompt}')\n",
    "    print('\\n→ Agent 使用 CodeInterpreterTool 執行...\\n')\n",
    "    \n",
    "    result = await Runner.run(agent, prompt)\n",
    "    print(f'結果:\\n{result.final_output}')\n",
    "\n",
    "await test_3()"
   ]
  },
  {
   "cell_type": "markdown",
   "metadata": {},
   "source": [
    "## 驗證總結"
   ]
  },
  {
   "cell_type": "code",
   "execution_count": null,
   "metadata": {},
   "outputs": [],
   "source": [
    "print('''\n",
    "╔════════════════════════════════════════════════════════════════════╗\n",
    "║        CodeInterpreterTool 配置與執行驗證                        ║\n",
    "╚════════════════════════════════════════════════════════════════════╝\n",
    "\n",
    "✅ 正確配置方式:\n",
    "   code_tool = CodeInterpreterTool(\n",
    "       tool_config={\n",
    "           \"type\": \"code_interpreter\",\n",
    "           \"container\": {\n",
    "               \"type\": \"auto\"  # 容器類型必須是 'auto'\n",
    "           }\n",
    "       }\n",
    "   )\n",
    "   agent = Agent(\n",
    "       name=\"DataAnalystAgent\", \n",
    "       model=\"gpt-4o-mini\", \n",
    "       tools=[code_tool], \n",
    "       instructions=\"...\"\n",
    "   )\n",
    "\n",
    "✅ 正確執行方式:\n",
    "   from agents import Runner\n",
    "   result = await Runner.run(agent, prompt)\n",
    "   final_output = result.final_output\n",
    "\n",
    "✅ 工作流程:\n",
    "   1. 用戶提示傳入 Runner.run()\n",
    "   2. Agent 判斷是否需要使用 CodeInterpreterTool\n",
    "   3. Agent 調用工具執行 Python 程式碼（自動選擇容器）\n",
    "   4. Agent 返回計算結果\n",
    "\n",
    "✅ CodeInterpreterTool 能執行:\n",
    "   • 數值計算\n",
    "   • 數據分析\n",
    "   • 統計計算\n",
    "   • 財務建模\n",
    "   • 科學計算\n",
    "\n",
    "✅ 核心要點:\n",
    "   • container.type 必須指定為 \"auto\"（OpenAI 自動選擇最適合的容器）\n",
    "   • tool_config 必須包含 type 和 container 設置\n",
    "   • 必須使用 Runner.run() 而不是 agent.run()\n",
    "   • Agent 自動決定何時使用工具\n",
    "   • result.final_output 包含 Agent 最終回應\n",
    "''')\n",
    "\n"
   ]
  }
 ],
 "metadata": {
  "kernelspec": {
   "display_name": ".venv",
   "language": "python",
   "name": "python3"
  },
  "language_info": {
   "codemirror_mode": {
    "name": "ipython",
    "version": 3
   },
   "file_extension": ".py",
   "mimetype": "text/x-python",
   "name": "python",
   "nbconvert_exporter": "python",
   "pygments_lexer": "ipython3",
   "version": "3.11.13"
  }
 },
 "nbformat": 4,
 "nbformat_minor": 4
}
