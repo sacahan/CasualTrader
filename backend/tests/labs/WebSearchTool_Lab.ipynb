{
 "cells": [
  {
   "cell_type": "markdown",
   "metadata": {},
   "source": [
    "# WebSearchTool 網路搜尋測試\n",
    "\n",
    "本測試展示：**讓 WebSearchTool 工具實際執行網路搜尋**\n",
    "\n",
    "## 核心概念\n",
    "- Agent 收到用戶提示\n",
    "- Agent 判斷是否需要使用 WebSearchTool\n",
    "- Agent 調用 WebSearchTool 執行網路搜尋\n",
    "- Agent 返回搜尋結果並進行分析"
   ]
  },
  {
   "cell_type": "markdown",
   "metadata": {},
   "source": [
    "## Step 1: 環境設置"
   ]
  },
  {
   "cell_type": "code",
   "execution_count": 1,
   "metadata": {},
   "outputs": [
    {
     "name": "stdout",
     "output_type": "stream",
     "text": [
      "✓ 環境設置完成\n"
     ]
    }
   ],
   "source": [
    "import os, sys, asyncio\n",
    "from pathlib import Path\n",
    "from dotenv import load_dotenv\n",
    "\n",
    "load_dotenv()\n",
    "project_root = Path.cwd().parent.parent\n",
    "sys.path.insert(0, str(project_root / 'backend' / 'src'))\n",
    "\n",
    "print('✓ 環境設置完成')"
   ]
  },
  {
   "cell_type": "markdown",
   "metadata": {},
   "source": [
    "## Step 2: 配置 WebSearchTool"
   ]
  },
  {
   "cell_type": "code",
   "execution_count": 2,
   "metadata": {},
   "outputs": [
    {
     "name": "stdout",
     "output_type": "stream",
     "text": [
      "✓ WebSearchTool 配置完成\n",
      "  工具: web_search\n",
      "  搜尋上下文: medium\n",
      "  位置: 全域\n"
     ]
    }
   ],
   "source": [
    "from agents import Agent, WebSearchTool, Runner\n",
    "\n",
    "# ✅ 基礎配置方式\n",
    "# WebSearchTool 提供网络搜索功能，支持多种配置选项\n",
    "web_search_tool = WebSearchTool(\n",
    "    user_location=None,              # 可选：用户位置，用于本地化搜索结果\n",
    "    filters=None,                    # 可选：搜索过滤器\n",
    "    search_context_size='medium'    # 搜索上下文大小：'low'、'medium'、'high'\n",
    ")\n",
    "\n",
    "print('✓ WebSearchTool 配置完成')\n",
    "print(f'  工具: {web_search_tool.name}')\n",
    "print(f'  搜尋上下文: medium')\n",
    "print(f'  位置: 全域')"
   ]
  },
  {
   "cell_type": "markdown",
   "metadata": {},
   "source": [
    "## Step 3: 建立 Agent"
   ]
  },
  {
   "cell_type": "code",
   "execution_count": 3,
   "metadata": {},
   "outputs": [
    {
     "name": "stdout",
     "output_type": "stream",
     "text": [
      "✓ Agent 建立成功\n"
     ]
    }
   ],
   "source": [
    "agent = Agent(\n",
    "    name='ResearchAgent',\n",
    "    model='gpt-4o-mini',\n",
    "    tools=[web_search_tool],\n",
    "    instructions='你是研究專家。當用戶要求搜尋或查詢訊息時，使用 WebSearchTool 進行網路搜尋，然後分析並總結結果。'\n",
    ")\n",
    "\n",
    "print('✓ Agent 建立成功')"
   ]
  },
  {
   "cell_type": "markdown",
   "metadata": {},
   "source": [
    "## 測試 1: 股票市場信息搜尋"
   ]
  },
  {
   "cell_type": "code",
   "execution_count": 4,
   "metadata": {},
   "outputs": [
    {
     "name": "stdout",
     "output_type": "stream",
     "text": [
      "======================================================================\n",
      "測試 1: WebSearchTool 執行股票市場搜尋\n",
      "======================================================================\n",
      "\n",
      "用戶提示: 搜尋最近的 S&P 500 市場表現和主要趨勢，並簡要分析。\n",
      "\n",
      "→ Agent 使用 WebSearchTool 執行...\n",
      "\n",
      "結果:\n",
      "截至2025年10月18日，標準普爾500指數（S&P 500）表現穩健，持續反映美國股市的健康狀態。近期，該指數在科技股的帶動下創下新高，顯示出市場對科技創新和企業獲利增長的樂觀預期。\n",
      "\n",
      "## SPDR S&P 500 ETF Trust (SPY) 的股票市場資訊\n",
      "- SPDR S&P 500 ETF Trust 是 USA 市場中的 fund。\n",
      "- 售價是 664.39 USD，目前為 相較於先前收盤價的變化為 3.46 USD (0.01%)。\n",
      "- 最新開盤價為 659.47 USD，盤中成交量為 96500870。\n",
      "- 盤中最高價為 665.67 USD，盤中最低價為 651.41 USD。\n",
      "- 最新的交易時間為 星期五, 10月 17, 17:15:00 PDT。\n",
      "\n",
      "\n",
      "**近期市場表現與主要趨勢：**\n",
      "\n",
      "1. **科技股主導市場：** 科技行業，特別是人工智慧（AI）和半導體領域，持續吸引投資者關注。NVIDIA、Microsoft和Google等科技巨頭的強勁表現，推動了指數的上漲。 ([oanda.com](https://www.oanda.com/bvi-ft/lab-education/indices/07/?utm_source=openai))\n",
      "\n",
      "2. **美聯儲政策影響：** 美聯儲的貨幣政策走向對市場情緒產生重要影響。近期市場對美聯儲可能放寬政策的預期，提振了投資者信心。 ([tradersunion.com](https://tradersunion.com/zh/news/financial-news/show/630235-stock-market-recap/?utm_source=openai))\n",
      "\n",
      "3. **市場集中度上升：** 大型科技公司的市值增長導致市場集中度上升。這種集中度的變化可能影響指數的波動性和投資風險。 ([finance.sina.com.cn](https://finance.sina.com.cn/roll/2025-01-03/doc-inectaav6328798.shtml?utm_source=openai))\n",
      "\n",
      "**簡要分析：**\n",
      "\n",
      "近期S&P 500的穩健表現主要受科技股強勁增長和美聯儲政策預期的支持。然而，市場集中度的上升可能增加指數的波動性，投資者應關注大型科技股的表現和宏觀經濟指標，以做出明智的投資決策。 \n"
     ]
    }
   ],
   "source": [
    "async def test_1():\n",
    "    print('='*70)\n",
    "    print('測試 1: WebSearchTool 執行股票市場搜尋')\n",
    "    print('='*70)\n",
    "    \n",
    "    prompt = '搜尋最近的 S&P 500 市場表現和主要趨勢，並簡要分析。'\n",
    "    \n",
    "    print(f'\\n用戶提示: {prompt}')\n",
    "    print('\\n→ Agent 使用 WebSearchTool 執行...\\n')\n",
    "    \n",
    "    result = await Runner.run(agent, prompt)\n",
    "    print(f'結果:\\n{result.final_output}')\n",
    "\n",
    "await test_1()"
   ]
  },
  {
   "cell_type": "markdown",
   "metadata": {},
   "source": [
    "## 測試 2: 技術新聞搜尋"
   ]
  },
  {
   "cell_type": "code",
   "execution_count": 5,
   "metadata": {},
   "outputs": [
    {
     "name": "stdout",
     "output_type": "stream",
     "text": [
      "\n",
      "======================================================================\n",
      "測試 2: WebSearchTool 執行科技新聞搜尋\n",
      "======================================================================\n",
      "\n",
      "用戶提示: 搜尋關於 OpenAI 和人工智能最新發展的新聞，並總結主要進展。\n",
      "\n",
      "→ Agent 使用 WebSearchTool 執行...\n",
      "\n",
      "結果:\n",
      "截至2025年10月，OpenAI在人工智能領域取得了多項重要進展，以下是主要的發展概覽：\n",
      "\n",
      "**1. 推出GPT-4.5模型**\n",
      "\n",
      "2025年2月，OpenAI推出了其最新的語言模型GPT-4.5。該模型在前代基礎上進行了擴展，擁有更廣泛的知識儲備和更深刻的理解能力，從而減少了AI系統在回答問題時編造不實信息的概率。 ([takungpao.com](https://www.takungpao.com/news/232111/2025/0301/1064125.html?utm_source=openai))\n",
      "\n",
      "**2. 開放o1模型API**\n",
      "\n",
      "2024年12月，OpenAI宣布將以API形式讓第三方開發者使用其最新的人工智能模型o1。這一舉措旨在推動更多人工智能應用的發展，並提供結構化輸出、函數調用、視覺推理等功能。 ([tech.udn.com](https://tech.udn.com/tech/story/123454/8434662?utm_source=openai))\n",
      "\n",
      "**3. 推出OpenAI Operator**\n",
      "\n",
      "2025年1月，OpenAI推出了人工智能代理OpenAI Operator，該代理能夠透過網頁瀏覽器自主執行各種任務，包括填寫表單、下單購物、安排預約等。這一工具旨在擴展用戶在日常活動中的自動化應用能力。 ([zh.wikipedia.org](https://zh.wikipedia.org/wiki/OpenAI_Operator?utm_source=openai))\n",
      "\n",
      "**4. 成立Superalignment團隊**\n",
      "\n",
      "2023年7月，OpenAI成立了名為Superalignment的團隊，專注於研究超級智能的對齊問題。該團隊計劃在未來四年內將20%的計算資源用於解決這一問題，顯示出OpenAI對超級智能研究的重視程度。 ([36kr.com](https://www.36kr.com/p/2333452436555401?utm_source=openai))\n",
      "\n",
      "**5. 開放GPT-4o模型**\n",
      "\n",
      "2024年5月，OpenAI宣布開放其最新的GPT-4o模型，該模型在音頻理解能力上有了顯著提升，能夠在平均320毫秒內對音頻輸入作出反應，與人類在典型對話中的反應時間相似。 ([huxiu.com](https://www.huxiu.com/brief/172822.html?utm_source=openai))\n",
      "\n",
      "這些進展顯示了OpenAI在推動人工智能技術發展和應用方面的持續努力，並對未來的人工智能應用和研究方向產生了深遠影響。 \n"
     ]
    }
   ],
   "source": [
    "async def test_2():\n",
    "    print('\\n' + '='*70)\n",
    "    print('測試 2: WebSearchTool 執行科技新聞搜尋')\n",
    "    print('='*70)\n",
    "    \n",
    "    prompt = '搜尋關於 OpenAI 和人工智能最新發展的新聞，並總結主要進展。'\n",
    "    \n",
    "    print(f'\\n用戶提示: {prompt}')\n",
    "    print('\\n→ Agent 使用 WebSearchTool 執行...\\n')\n",
    "    \n",
    "    result = await Runner.run(agent, prompt)\n",
    "    print(f'結果:\\n{result.final_output}')\n",
    "\n",
    "await test_2()"
   ]
  },
  {
   "cell_type": "markdown",
   "metadata": {},
   "source": [
    "## 測試 3: 經濟數據搜尋"
   ]
  },
  {
   "cell_type": "code",
   "execution_count": 6,
   "metadata": {},
   "outputs": [
    {
     "name": "stdout",
     "output_type": "stream",
     "text": [
      "\n",
      "======================================================================\n",
      "測試 3: WebSearchTool 執行經濟數據搜尋\n",
      "======================================================================\n",
      "\n",
      "用戶提示: 搜尋最新的美國就業數據、GDP 增長率和通脹率，並提供：\n",
      "    1. 當前的主要經濟指標\n",
      "    2. 最近的變化趨勢\n",
      "    3. 對市場的潛在影響\n",
      "\n",
      "→ Agent 使用 WebSearchTool 執行...\n",
      "\n",
      "結果:\n",
      "截至2025年10月18日，美國的主要經濟指標如下：\n",
      "\n",
      "**1. 當前的主要經濟指標：**\n",
      "\n",
      "- **GDP增長率：** 根據國際貨幣基金組織（IMF）的預測，美國2025年的實際GDP增長率為2.0%，2026年為2.1%。 ([reuters.com](https://www.reuters.com/world/china/imf-lifts-growth-outlook-more-benign-tariffs-revived-us-china-trade-war-looms-2025-10-14/?utm_source=openai))\n",
      "\n",
      "- **通脹率：** 美國的核心消費者物價指數（CPI）年增率為3.1%，預計在2025年底上升至3.2%，仍高於聯邦儲備的2.0%目標。 ([numbernomics.com](https://numbernomics.com/forecasts/?utm_source=openai))\n",
      "\n",
      "- **失業率：** 美國的失業率為4.3%，預計在2025年底上升至4.4%，2026年略微下降至4.2%。 ([numbernomics.com](https://numbernomics.com/forecasts/?utm_source=openai))\n",
      "\n",
      "**2. 最近的變化趨勢：**\n",
      "\n",
      "- **GDP增長：** IMF將2025年全球GDP增長預測上調至3.2%，主要歸因於關稅影響的減輕和金融條件的改善。 ([reuters.com](https://www.reuters.com/world/china/imf-lifts-growth-outlook-more-benign-tariffs-revived-us-china-trade-war-looms-2025-10-14/?utm_source=openai))\n",
      "\n",
      "- **通脹率：** 由於關稅實施，通脹率在2025年底預計上升至3.9%，但隨著關稅影響的減弱，2026年將迅速下降。 ([oecd.org](https://www.oecd.org/en/publications/2025/06/oecd-economic-outlook-volume-2025-issue-1_1fd979a8/full-report/united-states_c69a8d2f.html?utm_source=openai))\n",
      "\n",
      "- **失業率：** 儘管經濟增長，勞動市場仍顯示疲軟跡象，招聘和解雇率均處於低水平。 ([reuters.com](https://www.reuters.com/business/feds-powell-says-economy-firmer-footing-though-low-hiring-low-firing-trend-2025-10-14/?utm_source=openai))\n",
      "\n",
      "**3. 對市場的潛在影響：**\n",
      "\n",
      "- **GDP增長：** 穩定的GDP增長可能支持企業投資和消費者支出，但需關注潛在的貿易緊張局勢對增長的影響。 ([reuters.com](https://www.reuters.com/world/china/imf-lifts-growth-outlook-more-benign-tariffs-revived-us-china-trade-war-looms-2025-10-14/?utm_source=openai))\n",
      "\n",
      "- **通脹率：** 高於目標的通脹率可能導致聯邦儲備進一步加息，以抑制物價上漲，從而影響借貸成本和消費者行為。 ([reuters.com](https://www.reuters.com/business/feds-waller-favors-25-basis-point-rate-cut-october-amid-job-market-worries-2025-10-16/?utm_source=openai))\n",
      "\n",
      "- **失業率：** 持續的高失業率可能削弱消費者信心和支出，對經濟增長構成下行風險。 ([reuters.com](https://www.reuters.com/business/feds-powell-says-economy-firmer-footing-though-low-hiring-low-firing-trend-2025-10-14/?utm_source=openai))\n",
      "\n",
      "總體而言，儘管美國經濟顯示出增長潛力，但高通脹和勞動市場疲軟可能對市場情緒和政策決策產生影響。\n",
      "\n",
      "\n",
      "## 美國經濟最新動態:\n",
      "-[Slowdown in US hiring suggests economy still needs rate cuts, Fed's Powell says](https://apnews.com/article/e9dc73418ebfc7ed2ed2bed291dffa76?utm_source=openai)，已發布於 Tuesday, October 14\n",
      "-[Fed's Powell says economy may be on firmer footing, but job market weak](https://www.reuters.com/business/feds-powell-says-economy-firmer-footing-though-low-hiring-low-firing-trend-2025-10-14/?utm_source=openai)，已發布於 Tuesday, October 14\n",
      "-[IMF lifts growth outlook on more benign tariffs as revived US-China trade war looms](https://www.reuters.com/world/china/imf-lifts-growth-outlook-more-benign-tariffs-revived-us-china-trade-war-looms-2025-10-14/?utm_source=openai)，已發布於 Tuesday, October 14 \n"
     ]
    }
   ],
   "source": [
    "async def test_3():\n",
    "    print('\\n' + '='*70)\n",
    "    print('測試 3: WebSearchTool 執行經濟數據搜尋')\n",
    "    print('='*70)\n",
    "    \n",
    "    prompt = '''搜尋最新的美國就業數據、GDP 增長率和通脹率，並提供：\n",
    "    1. 當前的主要經濟指標\n",
    "    2. 最近的變化趨勢\n",
    "    3. 對市場的潛在影響'''\n",
    "    \n",
    "    print(f'\\n用戶提示: {prompt}')\n",
    "    print('\\n→ Agent 使用 WebSearchTool 執行...\\n')\n",
    "    \n",
    "    result = await Runner.run(agent, prompt)\n",
    "    print(f'結果:\\n{result.final_output}')\n",
    "\n",
    "await test_3()"
   ]
  },
  {
   "cell_type": "markdown",
   "metadata": {},
   "source": [
    "## 測試 4: 配置不同的搜尋上下文"
   ]
  },
  {
   "cell_type": "code",
   "execution_count": null,
   "metadata": {},
   "outputs": [],
   "source": [
    "# 建立不同配置的 Agent\n",
    "web_search_high_context = WebSearchTool(\n",
    "    search_context_size='high'  # 高上下文：更多搜索結果和詳細信息\n",
    ")\n",
    "\n",
    "agent_high_context = Agent(\n",
    "    name='DetailedResearchAgent',\n",
    "    model='gpt-4o-mini',\n",
    "    tools=[web_search_high_context],\n",
    "    instructions='你是詳細的研究專家。使用 WebSearchTool 進行深入搜尋，並提供詳細的分析報告。'\n",
    ")\n",
    "\n",
    "async def test_4():\n",
    "    print('\\n' + '='*70)\n",
    "    print('測試 4: 使用高上下文進行詳細搜尋')\n",
    "    print('='*70)\n",
    "    \n",
    "    prompt = '搜尋特斯拉的最新財務表現和市場動態。'\n",
    "    \n",
    "    print(f'\\n用戶提示: {prompt}')\n",
    "    print('搜尋上下文: HIGH（更詳細）')\n",
    "    print('\\n→ Agent 使用 WebSearchTool 執行...\\n')\n",
    "    \n",
    "    result = await Runner.run(agent_high_context, prompt)\n",
    "    print(f'結果:\\n{result.final_output}')\n",
    "\n",
    "await test_4()"
   ]
  },
  {
   "cell_type": "markdown",
   "metadata": {},
   "source": [
    "## 驗證總結"
   ]
  },
  {
   "cell_type": "code",
   "execution_count": null,
   "metadata": {},
   "outputs": [],
   "source": [
    "print('''\n",
    "╔════════════════════════════════════════════════════════════════════╗\n",
    "║            WebSearchTool 配置與執行驗證                          ║\n",
    "╚════════════════════════════════════════════════════════════════════╝\n",
    "\n",
    "✅ 基礎配置方式:\n",
    "   web_search_tool = WebSearchTool(\n",
    "       user_location=None,              # 可選：用戶位置\n",
    "       filters=None,                    # 可選：搜尋過濾器\n",
    "       search_context_size='medium'    # 上下文大小\n",
    "   )\n",
    "   agent = Agent(\n",
    "       name=\"ResearchAgent\", \n",
    "       model=\"gpt-4o-mini\", \n",
    "       tools=[web_search_tool], \n",
    "       instructions=\"...\"\n",
    "   )\n",
    "\n",
    "✅ 正確執行方式:\n",
    "   from agents import Runner\n",
    "   result = await Runner.run(agent, prompt)\n",
    "   final_output = result.final_output\n",
    "\n",
    "✅ 工作流程:\n",
    "   1. 用戶提示傳入 Runner.run()\n",
    "   2. Agent 判斷是否需要使用 WebSearchTool\n",
    "   3. Agent 調用工具進行網路搜尋\n",
    "   4. Agent 分析搜尋結果並返回摘要\n",
    "\n",
    "✅ 搜尋上下文大小 (search_context_size):\n",
    "   • 'low'    - 最少的搜尋結果和上下文\n",
    "   • 'medium' - 平衡的搜尋結果和上下文（預設）\n",
    "   • 'high'   - 最多的搜尋結果和詳細上下文\n",
    "\n",
    "✅ WebSearchTool 能執行:\n",
    "   • 市場研究和股票信息\n",
    "   • 新聞和最新事件搜尋\n",
    "   • 經濟數據和報告\n",
    "   • 技術發展和創新動向\n",
    "   • 一般知識和事實查證\n",
    "\n",
    "✅ 核心要點:\n",
    "   • WebSearchTool 目前僅支持 OpenAI 模型\n",
    "   • 需要有效的互聯網連接\n",
    "   • search_context_size 影響搜尋結果的詳細程度\n",
    "   • 必須使用 Runner.run() 而不是 agent.run()\n",
    "   • Agent 自動決定何時使用工具\n",
    "   • result.final_output 包含 Agent 最終回應和分析\n",
    "\n",
    "✅ 搜尋位置設置 (user_location):\n",
    "   • 可設置特定地點以獲得本地化搜尋結果\n",
    "   • 對於財務和市場數據特別有用\n",
    "   • 預設為 None（全域搜尋）\n",
    "''')\n"
   ]
  }
 ],
 "metadata": {
  "kernelspec": {
   "display_name": ".venv",
   "language": "python",
   "name": "python3"
  },
  "language_info": {
   "codemirror_mode": {
    "name": "ipython",
    "version": 3
   },
   "file_extension": ".py",
   "mimetype": "text/x-python",
   "name": "python",
   "nbconvert_exporter": "python",
   "pygments_lexer": "ipython3",
   "version": "3.11.13"
  }
 },
 "nbformat": 4,
 "nbformat_minor": 4
}
