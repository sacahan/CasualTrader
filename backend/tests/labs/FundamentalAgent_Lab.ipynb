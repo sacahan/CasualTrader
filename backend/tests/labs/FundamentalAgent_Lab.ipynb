{
 "cells": [
  {
   "cell_type": "markdown",
   "metadata": {},
   "source": [
    "# Fundamental Agent 基本面分析測試\n",
    "\n",
    "本測試展示：**基本面分析 Agent 的完整工作流程**\n",
    "\n",
    "使用 5 個自訂基本面分析工具（@function_tool）進行手動測試：\n",
    "- calculate_financial_ratios\n",
    "- analyze_financial_health\n",
    "- evaluate_valuation\n",
    "- analyze_growth_potential\n",
    "- generate_investment_rating"
   ]
  },
  {
   "cell_type": "markdown",
   "metadata": {},
   "source": [
    "## Step 1: 環境設置"
   ]
  },
  {
   "cell_type": "code",
   "execution_count": 1,
   "metadata": {},
   "outputs": [
    {
     "name": "stderr",
     "output_type": "stream",
     "text": [
      "\u001b[32m2025-10-22 09:41:20\u001b[0m | \u001b[1mINFO    \u001b[0m | \u001b[36mcommon.logger\u001b[0m:\u001b[36msetup_logger\u001b[0m:\u001b[36m108\u001b[0m | \u001b[1mLogger initialized with level: INFO\u001b[0m\n",
      "\u001b[32m2025-10-22 09:41:20\u001b[0m | \u001b[1mINFO    \u001b[0m | \u001b[36mcommon.logger\u001b[0m:\u001b[36msetup_logger\u001b[0m:\u001b[36m110\u001b[0m | \u001b[1mLogging to file: /Users/sacahan/Documents/workspace/CasualTrader/backend/logs/backend.log\u001b[0m\n"
     ]
    },
    {
     "name": "stdout",
     "output_type": "stream",
     "text": [
      "✓ 環境設置完成\n"
     ]
    }
   ],
   "source": [
    "import sys\n",
    "from pathlib import Path\n",
    "from dotenv import load_dotenv\n",
    "\n",
    "from agents import (\n",
    "    Runner,\n",
    "    gen_trace_id,\n",
    "    trace,\n",
    "    WebSearchTool,\n",
    "    CodeInterpreterTool,\n",
    ")\n",
    "from agents.mcp import MCPServerStdio\n",
    "\n",
    "load_dotenv()\n",
    "\n",
    "project_root = Path.cwd().parent.parent\n",
    "sys.path.insert(0, str(project_root / 'backend' / 'src'))\n",
    "\n",
    "from common.logger import logger\n",
    "\n",
    "print('✓ 環境設置完成')"
   ]
  },
  {
   "cell_type": "markdown",
   "metadata": {},
   "source": [
    "## Step 2: 導入必要的模組"
   ]
  },
  {
   "cell_type": "code",
   "execution_count": 2,
   "metadata": {},
   "outputs": [
    {
     "name": "stdout",
     "output_type": "stream",
     "text": [
      "✓ 模組導入完成\n"
     ]
    }
   ],
   "source": [
    "from trading.tools.fundamental_agent import (\n",
    "    get_fundamental_agent,\n",
    ")\n",
    "\n",
    "print('✓ 模組導入完成')"
   ]
  },
  {
   "cell_type": "markdown",
   "metadata": {},
   "source": [
    "## Step 3: 初始化 OpenAI 內建工具"
   ]
  },
  {
   "cell_type": "code",
   "execution_count": 3,
   "metadata": {},
   "outputs": [],
   "source": [
    "# WebSearchTool: 提供網路搜尋功能\n",
    "web_search_tool = WebSearchTool(\n",
    "    user_location=None,  # 可選：用戶位置，用於本地化搜尋結果\n",
    "    filters=None,  # 可選：搜尋過濾器\n",
    "    search_context_size=\"medium\",  # 搜尋上下文大小：'low'、'medium'、'high'\n",
    ")\n",
    "\n",
    "# CodeInterpreterTool: 提供程式碼執行功能\n",
    "# 必須指定 type 和 container 設置，container.type 必須為 \"auto\"\n",
    "code_interpreter_tool = CodeInterpreterTool(\n",
    "    tool_config={\n",
    "        \"type\": \"code_interpreter\",\n",
    "        \"container\": {\n",
    "            \"type\": \"auto\"  # OpenAI 自動選擇最適合的容器\n",
    "        },\n",
    "    }\n",
    ")\n",
    "\n",
    "openai_tools = [web_search_tool, code_interpreter_tool]"
   ]
  },
  {
   "cell_type": "markdown",
   "metadata": {},
   "source": [
    "## Step 4: 初始化 MCP Servers"
   ]
  },
  {
   "cell_type": "code",
   "execution_count": 4,
   "metadata": {},
   "outputs": [
    {
     "name": "stdout",
     "output_type": "stream",
     "text": [
      "✓ MCP Servers 已連接\n"
     ]
    }
   ],
   "source": [
    "# 全局變量來管理 MCP servers\n",
    "casual_market_mcp = None\n",
    "mcp_memory = None\n",
    "mcp_servers = []\n",
    "\n",
    "async def setup_mcp_servers():\n",
    "    \"\"\"設置 MCP servers\"\"\"\n",
    "    global casual_market_mcp, mcp_memory, mcp_servers\n",
    "    \n",
    "    # 清理舊的連接\n",
    "    if casual_market_mcp:\n",
    "        try:\n",
    "            await casual_market_mcp.__aexit__(None, None, None)\n",
    "        except:\n",
    "            pass\n",
    "    \n",
    "    if mcp_memory:\n",
    "        try:\n",
    "            await mcp_memory.__aexit__(None, None, None)\n",
    "        except:\n",
    "            pass\n",
    "    \n",
    "    # 初始化 casual-market-mcp\n",
    "    casual_market_mcp = MCPServerStdio(\n",
    "        params={\n",
    "            \"command\": \"uvx\",\n",
    "            \"args\": [\n",
    "                \"--from\",\n",
    "                \"/Users/sacahan/Documents/workspace/CasualMarket\",\n",
    "                \"casual-market-mcp\",\n",
    "            ],\n",
    "        }, \n",
    "        name=\"casual_market_mcp\", \n",
    "        client_session_timeout_seconds=120  # 增加超時時間\n",
    "    )\n",
    "    \n",
    "    # 初始化 mcp-memory-libsql\n",
    "    mcp_memory = MCPServerStdio(\n",
    "        params={\n",
    "            \"command\": \"npx\",\n",
    "            \"args\": [\"-y\", \"mcp-memory-libsql\"],\n",
    "            \"env\": {\"LIBSQL_URL\": \"file:./labs/fundamental_agent.db\"},\n",
    "        },\n",
    "        name=\"mcp_memory\",\n",
    "        client_session_timeout_seconds=120,  # 增加超時時間\n",
    "    )\n",
    "    \n",
    "    # 連接 servers\n",
    "    await casual_market_mcp.__aenter__()\n",
    "    await mcp_memory.__aenter__()\n",
    "    \n",
    "    mcp_servers = [casual_market_mcp, mcp_memory]\n",
    "    print('✓ MCP Servers 已連接')\n",
    "\n",
    "await setup_mcp_servers()"
   ]
  },
  {
   "cell_type": "markdown",
   "metadata": {},
   "source": [
    "## Step 5: 初始化 Fundamental Agent"
   ]
  },
  {
   "cell_type": "code",
   "execution_count": 6,
   "metadata": {},
   "outputs": [
    {
     "name": "stderr",
     "output_type": "stream",
     "text": [
      "\u001b[32m2025-10-22 09:42:22\u001b[0m | \u001b[1mINFO    \u001b[0m | \u001b[36mtrading.tools.fundamental_agent\u001b[0m:\u001b[36mget_fundamental_agent\u001b[0m:\u001b[36m581\u001b[0m | \u001b[1mget_fundamental_agent() called with model=gpt-4o-mini\u001b[0m\n",
      "\u001b[32m2025-10-22 09:42:22\u001b[0m | \u001b[1mINFO    \u001b[0m | \u001b[36mtrading.tools.fundamental_agent\u001b[0m:\u001b[36mget_fundamental_agent\u001b[0m:\u001b[36m596\u001b[0m | \u001b[1mCreating Agent with model=gpt-4o-mini, mcp_servers=2, tools=7\u001b[0m\n",
      "\u001b[32m2025-10-22 09:42:22\u001b[0m | \u001b[1mINFO    \u001b[0m | \u001b[36mtrading.tools.fundamental_agent\u001b[0m:\u001b[36mget_fundamental_agent\u001b[0m:\u001b[36m611\u001b[0m | \u001b[1mFundamental Analyst Agent created successfully\u001b[0m\n"
     ]
    },
    {
     "name": "stdout",
     "output_type": "stream",
     "text": [
      "✓ Fundamental Agent 已初始化\n"
     ]
    }
   ],
   "source": [
    "# 創建基本面分析 Agent\n",
    "fundamental_agent = await get_fundamental_agent(\n",
    "    model_name=\"gpt-4o-mini\",\n",
    "    mcp_servers=mcp_servers,\n",
    "    openai_tools=openai_tools\n",
    ")\n",
    "\n",
    "print('✓ Fundamental Agent 已初始化')"
   ]
  },
  {
   "cell_type": "markdown",
   "metadata": {},
   "source": [
    "## 測試 1: 單一公司基本面分析"
   ]
  },
  {
   "cell_type": "code",
   "execution_count": 7,
   "metadata": {},
   "outputs": [
    {
     "name": "stdout",
     "output_type": "stream",
     "text": [
      "\n",
      "======================================================================\n",
      "測試 1: 單一公司基本面分析 - 台積電 (2330)\n",
      "======================================================================\n",
      "\n",
      "用戶提示:\n",
      "請分析台積電 (2330) 的基本面。\n",
      "\n",
      "最新財務數據：\n",
      "- 營收：新台幣 250 億元\n",
      "- 淨利：新台幣 50 億元\n",
      "- 總資產：新台幣 1,200 億元\n",
      "- 股東權益：新台幣 600 億元\n",
      "- 市值：新台幣 10,000 億元\n",
      "- 目前股價：新台幣 450 元\n",
      "\n",
      "請進行以下分析：\n",
      "1. 計算主要財務比率 (ROE, ROA, 淨利率)\n",
      "2. 評估財務體質健全度\n",
      "3. 評估當前估值水準\n",
      "4. 分析成長潛力\n",
      "5. 最後給出投資評級和建議\n",
      "\n",
      "最後將結論存入 mcp_memory ，以便未來查詢和學習。\n",
      "\n",
      "\n",
      "→ Agent 執行分析...\n",
      "----------------------------------------------------------------------\n"
     ]
    },
    {
     "name": "stderr",
     "output_type": "stream",
     "text": [
      "\u001b[32m2025-10-22 09:42:35\u001b[0m | \u001b[1mINFO    \u001b[0m | \u001b[36mtrading.tools.fundamental_agent\u001b[0m:\u001b[36mcalculate_financial_ratios\u001b[0m:\u001b[36m228\u001b[0m | \u001b[1m開始計算財務比率 | 股票: 2330\u001b[0m\n",
      "\u001b[32m2025-10-22 09:42:35\u001b[0m | \u001b[1mINFO    \u001b[0m | \u001b[36mtrading.tools.fundamental_agent\u001b[0m:\u001b[36mcalculate_financial_ratios\u001b[0m:\u001b[36m274\u001b[0m | \u001b[1m財務比率計算完成 | 股票: 2330\u001b[0m\n",
      "\u001b[32m2025-10-22 09:42:42\u001b[0m | \u001b[1mINFO    \u001b[0m | \u001b[36mtrading.tools.fundamental_agent\u001b[0m:\u001b[36manalyze_financial_health\u001b[0m:\u001b[36m292\u001b[0m | \u001b[1m開始分析財務體質 | 股票: 2330\u001b[0m\n",
      "\u001b[32m2025-10-22 09:42:42\u001b[0m | \u001b[1mINFO    \u001b[0m | \u001b[36mtrading.tools.fundamental_agent\u001b[0m:\u001b[36manalyze_financial_health\u001b[0m:\u001b[36m346\u001b[0m | \u001b[1m財務體質分析完成 | 股票: 2330 | 評級: C | 得分: 50 | 優勢: 2 | 弱點: 2\u001b[0m\n",
      "\u001b[32m2025-10-22 09:42:49\u001b[0m | \u001b[1mINFO    \u001b[0m | \u001b[36mtrading.tools.fundamental_agent\u001b[0m:\u001b[36mevaluate_valuation\u001b[0m:\u001b[36m379\u001b[0m | \u001b[1m開始評估估值 | 股票: 2330 | 當前價: 450.0\u001b[0m\n",
      "\u001b[32m2025-10-22 09:42:49\u001b[0m | \u001b[1mINFO    \u001b[0m | \u001b[36mtrading.tools.fundamental_agent\u001b[0m:\u001b[36mevaluate_valuation\u001b[0m:\u001b[36m416\u001b[0m | \u001b[1m估值評估完成 | 股票: 2330 | 等級: 昂貴 | 合理價: 382.50 | 折溢價率: -15.0%\u001b[0m\n",
      "\u001b[32m2025-10-22 09:42:55\u001b[0m | \u001b[1mINFO    \u001b[0m | \u001b[36mtrading.tools.fundamental_agent\u001b[0m:\u001b[36manalyze_growth_potential\u001b[0m:\u001b[36m446\u001b[0m | \u001b[1m開始分析成長潛力 | 股票: 2330\u001b[0m\n",
      "\u001b[32m2025-10-22 09:42:55\u001b[0m | \u001b[1mINFO    \u001b[0m | \u001b[36mtrading.tools.fundamental_agent\u001b[0m:\u001b[36manalyze_growth_potential\u001b[0m:\u001b[36m480\u001b[0m | \u001b[1m成長潛力分析完成 | 股票: 2330 | 評估: 負成長 | 趨勢: 趨緩 | 分數: 0\u001b[0m\n",
      "\u001b[32m2025-10-22 09:43:07\u001b[0m | \u001b[1mINFO    \u001b[0m | \u001b[36mtrading.tools.fundamental_agent\u001b[0m:\u001b[36mgenerate_investment_rating\u001b[0m:\u001b[36m517\u001b[0m | \u001b[1m開始產生投資評級 | 股票: 2330 | 體質分數: 50.0 | 估值: 昂貴 | 成長分數: 0.0\u001b[0m\n",
      "\u001b[32m2025-10-22 09:43:07\u001b[0m | \u001b[1mINFO    \u001b[0m | \u001b[36mtrading.tools.fundamental_agent\u001b[0m:\u001b[36mgenerate_investment_rating\u001b[0m:\u001b[36m546\u001b[0m | \u001b[1m投資評級產生完成 | 股票: 2330 | 評級: 賣出 | 目標價: 382.50 | 信心度: 75.0%\u001b[0m\n"
     ]
    },
    {
     "name": "stdout",
     "output_type": "stream",
     "text": [
      "----------------------------------------------------------------------\n",
      "\n",
      "Agent 分析結果:\n",
      "### 台積電 (2330) 基本面分析報告\n",
      "\n",
      "1. **主要財務比率**\n",
      "   - **ROE (股東權益報酬率):** 8.33%\n",
      "   - **ROA (總資產報酬率):** 4.17%\n",
      "   - **淨利率:** 20%\n",
      "\n",
      "2. **財務體質健全度**\n",
      "   - **健康度評分:** 50\n",
      "   - **健康評等:** C\n",
      "   - **優勢:**\n",
      "     - 優異的 ROE\n",
      "     - 高淨利率\n",
      "   - **劣勢:**\n",
      "     - 高負債比 (50%)\n",
      "     - 流動比率偏低 (0.00)\n",
      "   - **評估:** 財務體質普通，需注意負債風險。\n",
      "\n",
      "3. **估值水準**\n",
      "   - **當前股價:** 新台幣450元\n",
      "   - **合理價:** 新台幣382.5元\n",
      "   - **估值評級:** 昂貴 (高估)\n",
      "   - **PE Ratio:** 200 (高估)\n",
      "   - **PB Ratio:** 16.67 (高估)\n",
      "\n",
      "4. **成長潛力**\n",
      "   - **營收增長:** 0%\n",
      "   - **EPS 增長:** 0%\n",
      "   - **增長趨勢:** 趨緩\n",
      "   - **評估:** 負成長，需謹慎觀察。\n",
      "\n",
      "5. **投資評級與建議**\n",
      "   - **投資評級:** 賣出\n",
      "   - **目標價:** 新台幣382.5元\n",
      "   - **信心評估:** 75%\n",
      "   - **建議:** 基本面轉弱，建議減碼持股。\n",
      "\n",
      "### 關鍵優勢\n",
      "- 優異的 ROE 與高淨利率顯示出其獲利能力。\n",
      "\n",
      "### 風險提示\n",
      "- 高負債比和流動比率低可能影響償債能力，需密切關注市場變化。\n",
      "\n",
      "此分析已存入資料庫，方便未來查詢和學習。\n"
     ]
    }
   ],
   "source": [
    "async def test_single_company_analysis():\n",
    "    print('\\n' + '='*70)\n",
    "    print('測試 1: 單一公司基本面分析 - 台積電 (2330)')\n",
    "    print('='*70)\n",
    "    \n",
    "    prompt = \"\"\"請分析台積電 (2330) 的基本面。\n",
    "    \n",
    "最新財務數據：\n",
    "- 營收：新台幣 250 億元\n",
    "- 淨利：新台幣 50 億元\n",
    "- 總資產：新台幣 1,200 億元\n",
    "- 股東權益：新台幣 600 億元\n",
    "- 市值：新台幣 10,000 億元\n",
    "- 目前股價：新台幣 450 元\n",
    "\n",
    "請進行以下分析：\n",
    "1. 計算主要財務比率 (ROE, ROA, 淨利率)\n",
    "2. 評估財務體質健全度\n",
    "3. 評估當前估值水準\n",
    "4. 分析成長潛力\n",
    "5. 最後給出投資評級和建議\n",
    "\n",
    "最後將結論存入 mcp_memory ，以便未來查詢和學習。\n",
    "\"\"\"\n",
    "    \n",
    "    print(f'\\n用戶提示:\\n{prompt}')\n",
    "    print('\\n→ Agent 執行分析...')\n",
    "    print('-' * 70)\n",
    "    \n",
    "    trace_id = gen_trace_id()\n",
    "    try:\n",
    "        with trace(workflow_name=\"fundamental_agent_lab\", trace_id=trace_id):\n",
    "            result = await Runner.run(fundamental_agent, prompt, max_turns=15)\n",
    "    \n",
    "        print('-' * 70)\n",
    "        print('\\nAgent 分析結果:')\n",
    "        print(result.final_output)\n",
    "        \n",
    "        return result\n",
    "    except Exception as e:\n",
    "        print(f\"執行錯誤: {e}\")\n",
    "        print(f\"錯誤類型: {type(e).__name__}\")\n",
    "        return None\n",
    "\n",
    "result_1 = await test_single_company_analysis()"
   ]
  },
  {
   "cell_type": "markdown",
   "metadata": {},
   "source": [
    "## 測試 2: 完整 Agent 工作流程 - 多公司對比"
   ]
  },
  {
   "cell_type": "code",
   "execution_count": null,
   "metadata": {},
   "outputs": [],
   "source": [
    "async def test_multi_company_comparison():\n",
    "    print('\\n' + '='*70)\n",
    "    print('測試 2: 完整 Agent 工作流程 - 多公司對比分析')\n",
    "    print('='*70)\n",
    "    \n",
    "    prompt = '''比較以下三家科技公司的基本面：\n",
    "    \n",
    "公司 A (2330)：\n",
    "- ROE: 25%\n",
    "- PE 比率: 20 倍\n",
    "- 淨利潤率: 18%\n",
    "- 營收成長: 15%\n",
    "- EPS 成長: 18%\n",
    "\n",
    "公司 B (2454)：\n",
    "- ROE: 18%\n",
    "- PE 比率: 25 倍\n",
    "- 淨利潤率: 14%\n",
    "- 營收成長: 22%\n",
    "- EPS 成長: 28%\n",
    "\n",
    "公司 C (3680)：\n",
    "- ROE: 15%\n",
    "- PE 比率: 35 倍\n",
    "- 淨利潤率: 10%\n",
    "- 營收成長: 8%\n",
    "- EPS 成長: 5%\n",
    "\n",
    "請分析：\n",
    "1. 各公司的優劣勢\n",
    "2. 估值的相對吸引力\n",
    "3. 成長潛力排名\n",
    "4. 投資建議排序\n",
    "5. 風險評估'''\n",
    "    \n",
    "    print(f'\\n用戶提示:\\n{prompt}')\n",
    "    print('\\n→ Agent 執行分析...')\n",
    "    print('-' * 70)\n",
    "    \n",
    "    trace_id = gen_trace_id()\n",
    "    try:\n",
    "        with trace(workflow_name=\"fundamental_agent_lab\", trace_id=trace_id):\n",
    "            result = await Runner.run(fundamental_agent, prompt, max_turns=15)\n",
    "    \n",
    "        print('-' * 70)\n",
    "        print('\\nAgent 分析結果:')\n",
    "        print(result.final_output)\n",
    "        \n",
    "        return result\n",
    "    except Exception as e:\n",
    "        print(f\"執行錯誤: {e}\")\n",
    "        print(f\"錯誤類型: {type(e).__name__}\")\n",
    "        return None\n",
    "\n",
    "result_2 = await test_multi_company_comparison()"
   ]
  },
  {
   "cell_type": "markdown",
   "metadata": {},
   "source": [
    "## 測試 3: 完整 Agent 工作流程 - 綜合基本面評估"
   ]
  },
  {
   "cell_type": "code",
   "execution_count": null,
   "metadata": {},
   "outputs": [],
   "source": [
    "async def test_comprehensive_fundamental_analysis():\n",
    "    print('\\n' + '='*70)\n",
    "    print('測試 3: 完整 Agent 工作流程 - 綜合基本面評估')\n",
    "    print('='*70)\n",
    "    \n",
    "    prompt = '''進行完整的公司基本面綜合評估。\n",
    "    \n",
    "公司背景：\n",
    "- 產業：半導體\n",
    "- 市場地位：全球領導者\n",
    "- 營運歷史：20 年以上\n",
    "\n",
    "財務狀況：\n",
    "- 三年平均 ROE: 22%\n",
    "- 淨債務比：0.2\n",
    "- 現金流狀況：強勁\n",
    "- 股利政策：持續分配\n",
    "\n",
    "市場評價：\n",
    "- 當前 PE 比率：18 倍\n",
    "- 產業平均 PE：20 倍\n",
    "- 過去 1 年股價表現：+30%\n",
    "- 技術分析：上升趨勢\n",
    "\n",
    "發展前景：\n",
    "- AI 芯片需求激增\n",
    "- 產能擴充計畫\n",
    "- 海外市場拓展\n",
    "\n",
    "請進行全面的基本面評估，結合所有因素給出綜合投資評級和長期持有建議。'''\n",
    "    \n",
    "    print(f'\\n用戶提示:\\n{prompt}')\n",
    "    print('\\n→ Agent 執行綜合分析...')\n",
    "    print('-' * 70)\n",
    "    \n",
    "    trace_id = gen_trace_id()\n",
    "    try:\n",
    "        with trace(workflow_name=\"fundamental_agent_lab\", trace_id=trace_id):\n",
    "            result = await Runner.run(fundamental_agent, prompt, max_turns=15)\n",
    "    \n",
    "        print('-' * 70)\n",
    "        print('\\nAgent 分析結果:')\n",
    "        print(result.final_output)\n",
    "        \n",
    "        return result\n",
    "    except Exception as e:\n",
    "        print(f\"執行錯誤: {e}\")\n",
    "        print(f\"錯誤類型: {type(e).__name__}\")\n",
    "        return None\n",
    "    \n",
    "    return result\n",
    "\n",
    "result_3 = await test_comprehensive_fundamental_analysis()"
   ]
  },
  {
   "cell_type": "markdown",
   "metadata": {},
   "source": [
    "## 清理資源"
   ]
  },
  {
   "cell_type": "code",
   "execution_count": 8,
   "metadata": {},
   "outputs": [
    {
     "name": "stderr",
     "output_type": "stream",
     "text": [
      "\u001b[32m2025-10-22 09:45:17\u001b[0m | \u001b[31m\u001b[1mERROR   \u001b[0m | \u001b[36magents.mcp.server\u001b[0m:\u001b[36mcleanup\u001b[0m:\u001b[36m347\u001b[0m | \u001b[31m\u001b[1mError cleaning up server: Attempted to exit cancel scope in a different task than it was entered in\u001b[0m\n",
      "\u001b[32m2025-10-22 09:45:17\u001b[0m | \u001b[31m\u001b[1mERROR   \u001b[0m | \u001b[36magents.mcp.server\u001b[0m:\u001b[36mcleanup\u001b[0m:\u001b[36m347\u001b[0m | \u001b[31m\u001b[1mError cleaning up server: Attempted to exit cancel scope in a different task than it was entered in\u001b[0m\n"
     ]
    },
    {
     "name": "stdout",
     "output_type": "stream",
     "text": [
      "✓ casual_market_mcp 已關閉\n",
      "✓ mcp_memory 已關閉\n",
      "✓ 所有 MCP servers 已清理完成\n"
     ]
    }
   ],
   "source": [
    "async def cleanup_mcp_servers():\n",
    "    \"\"\"清理 MCP servers 連接\"\"\"\n",
    "    global casual_market_mcp, mcp_memory\n",
    "    \n",
    "    try:\n",
    "        if casual_market_mcp:\n",
    "            await casual_market_mcp.__aexit__(None, None, None)\n",
    "            print('✓ casual_market_mcp 已關閉')\n",
    "        \n",
    "        if mcp_memory:\n",
    "            await mcp_memory.__aexit__(None, None, None)\n",
    "            print('✓ mcp_memory 已關閉')\n",
    "            \n",
    "        print('✓ 所有 MCP servers 已清理完成')\n",
    "        \n",
    "    except Exception as e:\n",
    "        print(f'清理過程中發生錯誤: {e}')\n",
    "\n",
    "# 測試完成後執行清理\n",
    "await cleanup_mcp_servers()"
   ]
  }
 ],
 "metadata": {
  "kernelspec": {
   "display_name": ".venv",
   "language": "python",
   "name": "python3"
  },
  "language_info": {
   "codemirror_mode": {
    "name": "ipython",
    "version": 3
   },
   "file_extension": ".py",
   "mimetype": "text/x-python",
   "name": "python",
   "nbconvert_exporter": "python",
   "pygments_lexer": "ipython3",
   "version": "3.11.13"
  }
 },
 "nbformat": 4,
 "nbformat_minor": 4
}
