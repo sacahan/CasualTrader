{
 "cells": [
  {
   "cell_type": "markdown",
   "metadata": {},
   "source": [
    "# Risk Agent 風險評估測試\n",
    "\n",
    "本測試展示：**風險管理 Agent 的完整工作流程**\n",
    "\n",
    "使用 5 個自訂風險評估工具（@function_tool）進行手動測試：\n",
    "- calculate_position_risk\n",
    "- analyze_portfolio_concentration\n",
    "- calculate_portfolio_risk\n",
    "- perform_stress_test\n",
    "- generate_risk_recommendations"
   ]
  },
  {
   "cell_type": "markdown",
   "metadata": {},
   "source": [
    "## Step 1: 環境設置"
   ]
  },
  {
   "cell_type": "code",
   "execution_count": 1,
   "metadata": {},
   "outputs": [
    {
     "name": "stderr",
     "output_type": "stream",
     "text": [
      "\u001b[32m2025-10-19 18:16:52\u001b[0m | \u001b[1mINFO    \u001b[0m | \u001b[36mcommon.logger\u001b[0m:\u001b[36msetup_logger\u001b[0m:\u001b[36m100\u001b[0m | \u001b[1mLogger initialized with level: INFO\u001b[0m\n",
      "\u001b[32m2025-10-19 18:16:52\u001b[0m | \u001b[1mINFO    \u001b[0m | \u001b[36mcommon.logger\u001b[0m:\u001b[36msetup_logger\u001b[0m:\u001b[36m102\u001b[0m | \u001b[1mLogging to file: /Users/sacahan/Documents/workspace/CasualTrader/backend/logs/casualtrader.log\u001b[0m\n"
     ]
    },
    {
     "name": "stdout",
     "output_type": "stream",
     "text": [
      "✓ 環境設置完成\n"
     ]
    }
   ],
   "source": [
    "import sys\n",
    "from pathlib import Path\n",
    "from dotenv import load_dotenv\n",
    "\n",
    "from agents import (\n",
    "    Runner,\n",
    "    gen_trace_id,\n",
    "    trace,\n",
    "    WebSearchTool,\n",
    "    CodeInterpreterTool,\n",
    ")\n",
    "from agents.mcp import MCPServerStdio\n",
    "\n",
    "load_dotenv()\n",
    "\n",
    "project_root = Path.cwd().parent.parent\n",
    "sys.path.insert(0, str(project_root / 'backend' / 'src'))\n",
    "\n",
    "from common.logger import logger\n",
    "\n",
    "print('✓ 環境設置完成')"
   ]
  },
  {
   "cell_type": "markdown",
   "metadata": {},
   "source": [
    "## Step 2: 導入必要的模組"
   ]
  },
  {
   "cell_type": "code",
   "execution_count": 2,
   "metadata": {},
   "outputs": [
    {
     "name": "stdout",
     "output_type": "stream",
     "text": [
      "✓ 模組導入完成\n"
     ]
    }
   ],
   "source": [
    "from trading.tools.risk_agent import (\n",
    "    get_risk_agent,\n",
    ")\n",
    "\n",
    "print('✓ 模組導入完成')"
   ]
  },
  {
   "cell_type": "markdown",
   "metadata": {},
   "source": [
    "## Step 3: 初始化 OpenAI 內建工具"
   ]
  },
  {
   "cell_type": "code",
   "execution_count": 3,
   "metadata": {},
   "outputs": [],
   "source": [
    "# WebSearchTool: 提供網路搜尋功能\n",
    "web_search_tool = WebSearchTool(\n",
    "    user_location=None,  # 可選：用戶位置，用於本地化搜尋結果\n",
    "    filters=None,  # 可選：搜尋過濾器\n",
    "    search_context_size=\"medium\",  # 搜尋上下文大小：'low'、'medium'、'high'\n",
    ")\n",
    "\n",
    "# CodeInterpreterTool: 提供程式碼執行功能\n",
    "# 必須指定 type 和 container 設置，container.type 必須為 \"auto\"\n",
    "code_interpreter_tool = CodeInterpreterTool(\n",
    "    tool_config={\n",
    "        \"type\": \"code_interpreter\",\n",
    "        \"container\": {\n",
    "            \"type\": \"auto\"  # OpenAI 自動選擇最適合的容器\n",
    "        },\n",
    "    }\n",
    ")\n",
    "\n",
    "openai_tools = [web_search_tool, code_interpreter_tool]"
   ]
  },
  {
   "cell_type": "markdown",
   "metadata": {},
   "source": [
    "## Step 4: 初始化 MCP Servers"
   ]
  },
  {
   "cell_type": "code",
   "execution_count": 4,
   "metadata": {},
   "outputs": [
    {
     "name": "stdout",
     "output_type": "stream",
     "text": [
      "✓ MCP Servers 已連接\n"
     ]
    }
   ],
   "source": [
    "# 全局變量來管理 MCP servers\n",
    "casual_market_mcp = None\n",
    "mcp_memory = None\n",
    "mcp_servers = []\n",
    "\n",
    "async def setup_mcp_servers():\n",
    "    \"\"\"設置 MCP servers\"\"\"\n",
    "    global casual_market_mcp, mcp_memory, mcp_servers\n",
    "    \n",
    "    # 清理舊的連接\n",
    "    if casual_market_mcp:\n",
    "        try:\n",
    "            await casual_market_mcp.__aexit__(None, None, None)\n",
    "        except:\n",
    "            pass\n",
    "    \n",
    "    if mcp_memory:\n",
    "        try:\n",
    "            await mcp_memory.__aexit__(None, None, None)\n",
    "        except:\n",
    "            pass\n",
    "    \n",
    "    # 初始化 casual-market-mcp\n",
    "    casual_market_mcp = MCPServerStdio(\n",
    "        params={\n",
    "            \"command\": \"uvx\",\n",
    "            \"args\": [\n",
    "                \"--from\",\n",
    "                \"/Users/sacahan/Documents/workspace/CasualMarket\",\n",
    "                \"casual-market-mcp\",\n",
    "            ],\n",
    "        }, \n",
    "        name=\"casual_market_mcp\", \n",
    "        client_session_timeout_seconds=120  # 增加超時時間\n",
    "    )\n",
    "    \n",
    "    # 初始化 mcp-memory-libsql\n",
    "    mcp_memory = MCPServerStdio(\n",
    "        params={\n",
    "            \"command\": \"npx\",\n",
    "            \"args\": [\"-y\", \"mcp-memory-libsql\"],\n",
    "            \"env\": {\"LIBSQL_URL\": \"file:./labs/risk_agent.db\"},\n",
    "        },\n",
    "        name=\"mcp_memory\",\n",
    "        client_session_timeout_seconds=120,  # 增加超時時間\n",
    "    )\n",
    "    \n",
    "    # 連接 servers\n",
    "    await casual_market_mcp.__aenter__()\n",
    "    await mcp_memory.__aenter__()\n",
    "    \n",
    "    mcp_servers = [casual_market_mcp, mcp_memory]\n",
    "    print('✓ MCP Servers 已連接')\n",
    "\n",
    "await setup_mcp_servers()"
   ]
  },
  {
   "cell_type": "markdown",
   "metadata": {},
   "source": [
    "## Step 5: 初始化 Risk Agent"
   ]
  },
  {
   "cell_type": "code",
   "execution_count": 5,
   "metadata": {},
   "outputs": [
    {
     "name": "stderr",
     "output_type": "stream",
     "text": [
      "\u001b[32m2025-10-19 18:17:06\u001b[0m | \u001b[1mINFO    \u001b[0m | \u001b[36mtrading.tools.risk_agent\u001b[0m:\u001b[36mget_risk_agent\u001b[0m:\u001b[36m552\u001b[0m | \u001b[1mget_risk_agent() called with model=gpt-4o-mini\u001b[0m\n",
      "\u001b[32m2025-10-19 18:17:06\u001b[0m | \u001b[1mINFO    \u001b[0m | \u001b[36mtrading.tools.risk_agent\u001b[0m:\u001b[36mget_risk_agent\u001b[0m:\u001b[36m567\u001b[0m | \u001b[1mCreating Agent with model=gpt-4o-mini, mcp_servers=2, tools=7\u001b[0m\n",
      "\u001b[32m2025-10-19 18:17:06\u001b[0m | \u001b[1mINFO    \u001b[0m | \u001b[36mtrading.tools.risk_agent\u001b[0m:\u001b[36mget_risk_agent\u001b[0m:\u001b[36m580\u001b[0m | \u001b[1mRisk Manager Agent created successfully\u001b[0m\n"
     ]
    },
    {
     "name": "stdout",
     "output_type": "stream",
     "text": [
      "✓ Risk Agent 已初始化\n"
     ]
    }
   ],
   "source": [
    "# 創建風險管理 Agent\n",
    "risk_agent = await get_risk_agent(\n",
    "    model_name=\"gpt-4o-mini\",\n",
    "    mcp_servers=mcp_servers,\n",
    "    openai_tools=openai_tools,\n",
    "    max_turns=15,\n",
    ")\n",
    "\n",
    "print('✓ Risk Agent 已初始化')"
   ]
  },
  {
   "cell_type": "markdown",
   "metadata": {},
   "source": [
    "## 測試 1: 單一投資組合風險評估"
   ]
  },
  {
   "cell_type": "code",
   "execution_count": 6,
   "metadata": {},
   "outputs": [
    {
     "name": "stdout",
     "output_type": "stream",
     "text": [
      "\n",
      "======================================================================\n",
      "測試 1: 單一投資組合風險評估\n",
      "======================================================================\n",
      "\n",
      "用戶提示:\n",
      "請評估我的投資組合風險。\n",
      "\n",
      "投資組合配置：\n",
      "- 台積電 (2330)：500 萬，目前股價 450 元，平均成本 420 元\n",
      "  波動率 25%，Beta 1.1\n",
      "\n",
      "- 聯發科 (2454)：300 萬，目前股價 900 元，平均成本 850 元\n",
      "  波動率 30%，Beta 1.3\n",
      "\n",
      "- 廣達 (2382)：200 萬，目前股價 150 元，平均成本 140 元\n",
      "  波動率 28%，Beta 1.2\n",
      "\n",
      "總投資組合價值：1,000 萬元\n",
      "\n",
      "請進行以下分析：\n",
      "1. 計算每個部位的風險指標\n",
      "2. 分析投資組合的集中度\n",
      "3. 計算整體投資組合風險\n",
      "4. 執行壓力測試\n",
      "5. 給出風險管理建議\n",
      "\n",
      "→ Agent 執行分析...\n",
      "----------------------------------------------------------------------\n"
     ]
    },
    {
     "name": "stderr",
     "output_type": "stream",
     "text": [
      "\u001b[32m2025-10-19 18:17:13\u001b[0m | \u001b[1mINFO    \u001b[0m | \u001b[36mhttpx._client\u001b[0m:\u001b[36m_send_single_request\u001b[0m:\u001b[36m1740\u001b[0m | \u001b[1mHTTP Request: POST https://api.openai.com/v1/responses \"HTTP/1.1 200 OK\"\u001b[0m\n",
      "\u001b[32m2025-10-19 18:17:14\u001b[0m | \u001b[1mINFO    \u001b[0m | \u001b[36mtrading.tools.risk_agent\u001b[0m:\u001b[36mcalculate_position_risk\u001b[0m:\u001b[36m204\u001b[0m | \u001b[1m開始計算部位風險 | 股票: 2330\u001b[0m\n",
      "\u001b[32m2025-10-19 18:17:14\u001b[0m | \u001b[1mINFO    \u001b[0m | \u001b[36mtrading.tools.risk_agent\u001b[0m:\u001b[36mcalculate_position_risk\u001b[0m:\u001b[36m226\u001b[0m | \u001b[1m部位風險計算完成 | 股票: 2330 | 風險評分: 28.0 | VaR(95%): 2,062,479 | 波動率: 25.00%\u001b[0m\n",
      "\u001b[32m2025-10-19 18:17:15\u001b[0m | \u001b[1mINFO    \u001b[0m | \u001b[36mhttpx._client\u001b[0m:\u001b[36m_send_single_request\u001b[0m:\u001b[36m1025\u001b[0m | \u001b[1mHTTP Request: POST https://api.openai.com/v1/traces/ingest \"HTTP/1.1 204 No Content\"\u001b[0m\n",
      "\u001b[32m2025-10-19 18:17:18\u001b[0m | \u001b[1mINFO    \u001b[0m | \u001b[36mhttpx._client\u001b[0m:\u001b[36m_send_single_request\u001b[0m:\u001b[36m1740\u001b[0m | \u001b[1mHTTP Request: POST https://api.openai.com/v1/responses \"HTTP/1.1 200 OK\"\u001b[0m\n",
      "\u001b[32m2025-10-19 18:17:18\u001b[0m | \u001b[1mINFO    \u001b[0m | \u001b[36mtrading.tools.risk_agent\u001b[0m:\u001b[36mcalculate_position_risk\u001b[0m:\u001b[36m204\u001b[0m | \u001b[1m開始計算部位風險 | 股票: 2454\u001b[0m\n",
      "\u001b[32m2025-10-19 18:17:18\u001b[0m | \u001b[1mINFO    \u001b[0m | \u001b[36mtrading.tools.risk_agent\u001b[0m:\u001b[36mcalculate_position_risk\u001b[0m:\u001b[36m226\u001b[0m | \u001b[1m部位風險計算完成 | 股票: 2454 | 風險評分: 39.0 | VaR(95%): 1,484,852 | 波動率: 30.00%\u001b[0m\n",
      "\u001b[32m2025-10-19 18:17:21\u001b[0m | \u001b[1mINFO    \u001b[0m | \u001b[36mhttpx._client\u001b[0m:\u001b[36m_send_single_request\u001b[0m:\u001b[36m1025\u001b[0m | \u001b[1mHTTP Request: POST https://api.openai.com/v1/traces/ingest \"HTTP/1.1 204 No Content\"\u001b[0m\n",
      "\u001b[32m2025-10-19 18:17:23\u001b[0m | \u001b[1mINFO    \u001b[0m | \u001b[36mhttpx._client\u001b[0m:\u001b[36m_send_single_request\u001b[0m:\u001b[36m1740\u001b[0m | \u001b[1mHTTP Request: POST https://api.openai.com/v1/responses \"HTTP/1.1 200 OK\"\u001b[0m\n",
      "\u001b[32m2025-10-19 18:17:23\u001b[0m | \u001b[1mINFO    \u001b[0m | \u001b[36mtrading.tools.risk_agent\u001b[0m:\u001b[36mcalculate_position_risk\u001b[0m:\u001b[36m204\u001b[0m | \u001b[1m開始計算部位風險 | 股票: 2382\u001b[0m\n",
      "\u001b[32m2025-10-19 18:17:23\u001b[0m | \u001b[1mINFO    \u001b[0m | \u001b[36mtrading.tools.risk_agent\u001b[0m:\u001b[36mcalculate_position_risk\u001b[0m:\u001b[36m226\u001b[0m | \u001b[1m部位風險計算完成 | 股票: 2382 | 風險評分: 34.0 | VaR(95%): 92,377 | 波動率: 28.00%\u001b[0m\n",
      "\u001b[32m2025-10-19 18:17:26\u001b[0m | \u001b[1mINFO    \u001b[0m | \u001b[36mhttpx._client\u001b[0m:\u001b[36m_send_single_request\u001b[0m:\u001b[36m1025\u001b[0m | \u001b[1mHTTP Request: POST https://api.openai.com/v1/traces/ingest \"HTTP/1.1 204 No Content\"\u001b[0m\n",
      "\u001b[32m2025-10-19 18:17:28\u001b[0m | \u001b[1mINFO    \u001b[0m | \u001b[36mhttpx._client\u001b[0m:\u001b[36m_send_single_request\u001b[0m:\u001b[36m1740\u001b[0m | \u001b[1mHTTP Request: POST https://api.openai.com/v1/responses \"HTTP/1.1 200 OK\"\u001b[0m\n",
      "\u001b[32m2025-10-19 18:17:28\u001b[0m | \u001b[1mINFO    \u001b[0m | \u001b[36mtrading.tools.risk_agent\u001b[0m:\u001b[36manalyze_portfolio_concentration\u001b[0m:\u001b[36m258\u001b[0m | \u001b[1m開始分析投資組合集中度 | 部位數: 3 | 總值: 10,000,000\u001b[0m\n",
      "\u001b[32m2025-10-19 18:17:28\u001b[0m | \u001b[1mINFO    \u001b[0m | \u001b[36mtrading.tools.risk_agent\u001b[0m:\u001b[36manalyze_portfolio_concentration\u001b[0m:\u001b[36m298\u001b[0m | \u001b[1m集中度分析完成 | 等級: 高度集中 | 產業分布: 2 個產業\u001b[0m\n",
      "\u001b[32m2025-10-19 18:17:32\u001b[0m | \u001b[1mINFO    \u001b[0m | \u001b[36mhttpx._client\u001b[0m:\u001b[36m_send_single_request\u001b[0m:\u001b[36m1025\u001b[0m | \u001b[1mHTTP Request: POST https://api.openai.com/v1/traces/ingest \"HTTP/1.1 204 No Content\"\u001b[0m\n",
      "\u001b[32m2025-10-19 18:17:36\u001b[0m | \u001b[1mINFO    \u001b[0m | \u001b[36mhttpx._client\u001b[0m:\u001b[36m_send_single_request\u001b[0m:\u001b[36m1740\u001b[0m | \u001b[1mHTTP Request: POST https://api.openai.com/v1/responses \"HTTP/1.1 200 OK\"\u001b[0m\n",
      "\u001b[32m2025-10-19 18:17:36\u001b[0m | \u001b[1mINFO    \u001b[0m | \u001b[36mtrading.tools.risk_agent\u001b[0m:\u001b[36mcalculate_portfolio_risk\u001b[0m:\u001b[36m331\u001b[0m | \u001b[1m開始計算投資組合整體風險 | 部位數: 3 | 總值: 10,000,000\u001b[0m\n",
      "\u001b[32m2025-10-19 18:17:36\u001b[0m | \u001b[1mINFO    \u001b[0m | \u001b[36mtrading.tools.risk_agent\u001b[0m:\u001b[36mcalculate_portfolio_risk\u001b[0m:\u001b[36m378\u001b[0m | \u001b[1m投資組合風險計算完成 | 風險等級: 中低風險 | 風險分數: 39.80 | 組合VaR: 3,639,708\u001b[0m\n",
      "\u001b[32m2025-10-19 18:17:38\u001b[0m | \u001b[1mINFO    \u001b[0m | \u001b[36mhttpx._client\u001b[0m:\u001b[36m_send_single_request\u001b[0m:\u001b[36m1025\u001b[0m | \u001b[1mHTTP Request: POST https://api.openai.com/v1/traces/ingest \"HTTP/1.1 204 No Content\"\u001b[0m\n",
      "\u001b[32m2025-10-19 18:17:43\u001b[0m | \u001b[1mINFO    \u001b[0m | \u001b[36mhttpx._client\u001b[0m:\u001b[36m_send_single_request\u001b[0m:\u001b[36m1740\u001b[0m | \u001b[1mHTTP Request: POST https://api.openai.com/v1/responses \"HTTP/1.1 200 OK\"\u001b[0m\n",
      "\u001b[32m2025-10-19 18:17:43\u001b[0m | \u001b[1mINFO    \u001b[0m | \u001b[36mtrading.tools.risk_agent\u001b[0m:\u001b[36mperform_stress_test\u001b[0m:\u001b[36m407\u001b[0m | \u001b[1m開始壓力測試 | 部位數: 3 | 情境數: 2\u001b[0m\n",
      "\u001b[32m2025-10-19 18:17:43\u001b[0m | \u001b[1mINFO    \u001b[0m | \u001b[36mtrading.tools.risk_agent\u001b[0m:\u001b[36mperform_stress_test\u001b[0m:\u001b[36m453\u001b[0m | \u001b[1m壓力測試完成 | 最大損失: 1,639,920 | 最壞情境: 市場回調 20%\u001b[0m\n",
      "\u001b[32m2025-10-19 18:17:48\u001b[0m | \u001b[1mINFO    \u001b[0m | \u001b[36mhttpx._client\u001b[0m:\u001b[36m_send_single_request\u001b[0m:\u001b[36m1025\u001b[0m | \u001b[1mHTTP Request: POST https://api.openai.com/v1/traces/ingest \"HTTP/1.1 204 No Content\"\u001b[0m\n",
      "\u001b[32m2025-10-19 18:17:56\u001b[0m | \u001b[1mINFO    \u001b[0m | \u001b[36mhttpx._client\u001b[0m:\u001b[36m_send_single_request\u001b[0m:\u001b[36m1740\u001b[0m | \u001b[1mHTTP Request: POST https://api.openai.com/v1/responses \"HTTP/1.1 200 OK\"\u001b[0m\n"
     ]
    },
    {
     "name": "stdout",
     "output_type": "stream",
     "text": [
      "----------------------------------------------------------------------\n",
      "\n",
      "Agent 分析結果:\n",
      "### 投資組合風險評估\n",
      "\n",
      "#### 1. 個別部位的風險指標\n",
      "- **台積電 (2330)**\n",
      "  - 目前價值: 4,999,950 元\n",
      "  - 未實現盈虧: 333,330 元 (7.14%)\n",
      "  - VaR (95%): 2,062,479 元\n",
      "  - 最大回撤: 2,499,975 元\n",
      "  - 風險分數: 28\n",
      "\n",
      "- **聯發科 (2454)**\n",
      "  - 目前價值: 2,999,700 元\n",
      "  - 未實現盈虧: 166,650 元 (5.88%)\n",
      "  - VaR (95%): 1,484,851 元\n",
      "  - 最大回撤: 1,799,820 元\n",
      "  - 風險分數: 39\n",
      "\n",
      "- **廣達 (2382)**\n",
      "  - 目前價值: 199,950 元\n",
      "  - 未實現盈虧: 13,330 元 (7.14%)\n",
      "  - VaR (95%): 92,377 元\n",
      "  - 最大回撤: 111,972 元\n",
      "  - 風險分數: 34\n",
      "\n",
      "---\n",
      "\n",
      "#### 2. 投資組合集中度分析\n",
      "- **HHI 指數**: 0.34 (高度集中)\n",
      "- **有效股票數**: 2.94\n",
      "- **前五名集中度**: 81.996%\n",
      "- **最大部位權重**: 49.999%\n",
      "- **行業集中度**:\n",
      "  - 半導體: 79.996%\n",
      "  - 科技: 1.9995%\n",
      "- **風險評估**: 集中度風險偏高，建議分散。\n",
      "\n",
      "---\n",
      "\n",
      "#### 3. 整體投資組合風險\n",
      "- **總價值**: 10,000,000 元\n",
      "- **投資組合波動率**: 22.06%\n",
      "- **Beta**: 0.96\n",
      "- **投資組合 VaR (95%)**: 3,639,708 元\n",
      "- **整體風險分數**: 39.8\n",
      "- **風險等級**: 中低風險\n",
      "\n",
      "---\n",
      "\n",
      "#### 4. 壓力測試結果\n",
      "- **市場回調 10%**\n",
      "  - 損失: 819,960 元 (10%)\n",
      "  - 嚴重程度: 嚴重\n",
      "\n",
      "- **市場回調 20%**\n",
      "  - 損失: 1,639,920 元 (20%)\n",
      "  - 嚴重程度: 極端\n",
      "  \n",
      "- **最大潛在損失**: 1,639,920 元\n",
      "\n",
      "---\n",
      "\n",
      "#### 5. 風險管理建議\n",
      "- **分散投資**: 考慮增加其他行業的投資，以減少行業集中度風險。\n",
      "- **設置停損點**: 針對高風險部位設定停損點，防止潛在損失擴大。\n",
      "- **資金流動性**: 保持一定比例的流動資金，以應對突發市場變動。\n",
      "- **風險預算**: 根據部位的風險分數，調整每個部位的資金配置以確保風險控制。\n",
      "- **持續監控**: 定期檢視投資組合的表現與市場變動，調整策略。\n",
      "\n",
      "---\n",
      "\n",
      "#### 信心評估\n",
      "- **信心度**: 85%\n",
      "\n",
      "上述分析提供了您的投資組合的當前風險狀況和建議，建議定期進行類似分析以持續優化您的投資策略。\n"
     ]
    },
    {
     "name": "stderr",
     "output_type": "stream",
     "text": [
      "\u001b[32m2025-10-19 18:17:59\u001b[0m | \u001b[1mINFO    \u001b[0m | \u001b[36mhttpx._client\u001b[0m:\u001b[36m_send_single_request\u001b[0m:\u001b[36m1025\u001b[0m | \u001b[1mHTTP Request: POST https://api.openai.com/v1/traces/ingest \"HTTP/1.1 204 No Content\"\u001b[0m\n"
     ]
    }
   ],
   "source": [
    "async def test_single_portfolio_risk():\n",
    "    print('\\n' + '='*70)\n",
    "    print('測試 1: 單一投資組合風險評估')\n",
    "    print('='*70)\n",
    "    \n",
    "    prompt = '''請評估我的投資組合風險。\n",
    "    \n",
    "投資組合配置：\n",
    "- 台積電 (2330)：500 萬，目前股價 450 元，平均成本 420 元\n",
    "  波動率 25%，Beta 1.1\n",
    "\n",
    "- 聯發科 (2454)：300 萬，目前股價 900 元，平均成本 850 元\n",
    "  波動率 30%，Beta 1.3\n",
    "\n",
    "- 廣達 (2382)：200 萬，目前股價 150 元，平均成本 140 元\n",
    "  波動率 28%，Beta 1.2\n",
    "\n",
    "總投資組合價值：1,000 萬元\n",
    "\n",
    "請進行以下分析：\n",
    "1. 計算每個部位的風險指標\n",
    "2. 分析投資組合的集中度\n",
    "3. 計算整體投資組合風險\n",
    "4. 執行壓力測試\n",
    "5. 給出風險管理建議'''\n",
    "    \n",
    "    print(f'\\n用戶提示:\\n{prompt}')\n",
    "    print('\\n→ Agent 執行分析...')\n",
    "    print('-' * 70)\n",
    "    \n",
    "    trace_id = gen_trace_id()\n",
    "    try:\n",
    "        with trace(workflow_name=\"risk_agent_lab\", trace_id=trace_id):\n",
    "            result = await Runner.run(risk_agent, prompt, max_turns=15)\n",
    "    \n",
    "        print('-' * 70)\n",
    "        print('\\nAgent 分析結果:')\n",
    "        print(result.final_output)\n",
    "        \n",
    "        return result\n",
    "    except Exception as e:\n",
    "        print(f\"執行錯誤: {e}\")\n",
    "        print(f\"錯誤類型: {type(e).__name__}\")\n",
    "        return None\n",
    "\n",
    "result_1 = await test_single_portfolio_risk()"
   ]
  },
  {
   "cell_type": "markdown",
   "metadata": {},
   "source": [
    "## 測試 2: 完整 Agent 工作流程 - 高風險投資組合"
   ]
  },
  {
   "cell_type": "code",
   "execution_count": null,
   "metadata": {},
   "outputs": [],
   "source": [
    "async def test_high_risk_portfolio():\n",
    "    print('\\n' + '='*70)\n",
    "    print('測試 2: 完整 Agent 工作流程 - 高風險投資組合')\n",
    "    print('='*70)\n",
    "    \n",
    "    prompt = '''請評估這個高風險投資組合的風險狀況。\n",
    "    \n",
    "投資組合配置：\n",
    "- 個股部位 1：600 萬，波動率 45%，Beta 1.8\n",
    "- 個股部位 2：500 萬，波動率 50%，Beta 2.0\n",
    "- 個股部位 3：400 萬，波動率 40%，Beta 1.7\n",
    "- 個股部位 4：300 萬，波動率 48%，Beta 1.9\n",
    "- 個股部位 5：200 萬，波動率 55%，Beta 2.2\n",
    "\n",
    "總投資組合價值：2,000 萬元\n",
    "\n",
    "市場條件：\n",
    "- 整體市場波動率：30%\n",
    "- 最近 1 個月市場下跌 8%\n",
    "- 投資人情緒偏弱\n",
    "\n",
    "請分析：\n",
    "1. 投資組合是否過度集中？\n",
    "2. 風險是否過高？\n",
    "3. 在市場崩盤情況下的潛在損失\n",
    "4. 立即需要採取的風險管理措施\n",
    "5. 建議的避險策略'''\n",
    "    \n",
    "    print(f'\\n用戶提示:\\n{prompt}')\n",
    "    print('\\n→ Agent 執行分析...')\n",
    "    print('-' * 70)\n",
    "    \n",
    "    trace_id = gen_trace_id()\n",
    "    try:\n",
    "        with trace(workflow_name=\"risk_agent_lab\", trace_id=trace_id):\n",
    "            result = await Runner.run(risk_agent, prompt, max_turns=15)\n",
    "    \n",
    "        print('-' * 70)\n",
    "        print('\\nAgent 分析結果:')\n",
    "        print(result.final_output)\n",
    "        \n",
    "        return result\n",
    "    except Exception as e:\n",
    "        print(f\"執行錯誤: {e}\")\n",
    "        print(f\"錯誤類型: {type(e).__name__}\")\n",
    "        return None\n",
    "\n",
    "result_2 = await test_high_risk_portfolio()"
   ]
  },
  {
   "cell_type": "markdown",
   "metadata": {},
   "source": [
    "## 測試 3: 完整 Agent 工作流程 - 風險優化建議"
   ]
  },
  {
   "cell_type": "code",
   "execution_count": null,
   "metadata": {},
   "outputs": [],
   "source": [
    "async def test_risk_optimization():\n",
    "    print('\\n' + '='*70)\n",
    "    print('測試 3: 完整 Agent 工作流程 - 風險優化建議')\n",
    "    print('='*70)\n",
    "    \n",
    "    prompt = '''我目前的投資組合存在風險集中問題，請提供優化建議。\n",
    "    \n",
    "當前投資組合（5,000 萬元）：\n",
    "- 電子產業：3,000 萬（60%）\n",
    "  * 台積電：1,500 萬\n",
    "  * 聯發科：1,000 萬\n",
    "  * 其他電子：500 萬\n",
    "\n",
    "- 金融產業：1,500 萬（30%）\n",
    "  * 國泰金：800 萬\n",
    "  * 富邦金：700 萬\n",
    "\n",
    "- 其他產業：500 萬（10%）\n",
    "  * 大型鐵路：500 萬\n",
    "\n",
    "風險特性：\n",
    "- 主要部位與市場高度相關（Beta > 1.5）\n",
    "- 產業集中度高\n",
    "- 缺乏防守性資產\n",
    "\n",
    "目標：\n",
    "- 維持 8-12% 預期年報酬\n",
    "- 將投資組合波動率從 32% 降至 22%\n",
    "- 增加抗跌性\n",
    "\n",
    "請提供：\n",
    "1. 風險評估總結\n",
    "2. 產業配置優化建議\n",
    "3. 具體的調整方案\n",
    "4. 預期的風險改善\n",
    "5. 執行建議和時間表'''\n",
    "    \n",
    "    print(f'\\n用戶提示:\\n{prompt}')\n",
    "    print('\\n→ Agent 執行分析...')\n",
    "    print('-' * 70)\n",
    "    \n",
    "    trace_id = gen_trace_id()\n",
    "    try:\n",
    "        with trace(workflow_name=\"risk_agent_lab\", trace_id=trace_id):\n",
    "            result = await Runner.run(risk_agent, prompt, max_turns=15)\n",
    "    \n",
    "        print('-' * 70)\n",
    "        print('\\nAgent 分析結果:')\n",
    "        print(result.final_output)\n",
    "        \n",
    "        return result\n",
    "    except Exception as e:\n",
    "        print(f\"執行錯誤: {e}\")\n",
    "        print(f\"錯誤類型: {type(e).__name__}\")\n",
    "        return None\n",
    "    \n",
    "    return result\n",
    "\n",
    "result_3 = await test_risk_optimization()"
   ]
  },
  {
   "cell_type": "markdown",
   "metadata": {},
   "source": [
    "## 清理資源"
   ]
  },
  {
   "cell_type": "code",
   "execution_count": null,
   "metadata": {},
   "outputs": [],
   "source": [
    "async def cleanup_mcp_servers():\n",
    "    \"\"\"清理 MCP servers 連接\"\"\"\n",
    "    global casual_market_mcp, mcp_memory\n",
    "    \n",
    "    try:\n",
    "        if casual_market_mcp:\n",
    "            await casual_market_mcp.__aexit__(None, None, None)\n",
    "            print('✓ casual_market_mcp 已關閉')\n",
    "        \n",
    "        if mcp_memory:\n",
    "            await mcp_memory.__aexit__(None, None, None)\n",
    "            print('✓ mcp_memory 已關閉')\n",
    "            \n",
    "        print('✓ 所有 MCP servers 已清理完成')\n",
    "        \n",
    "    except Exception as e:\n",
    "        print(f'清理過程中發生錯誤: {e}')\n",
    "\n",
    "# 測試完成後執行清理\n",
    "await cleanup_mcp_servers()"
   ]
  }
 ],
 "metadata": {
  "kernelspec": {
   "display_name": ".venv",
   "language": "python",
   "name": "python3"
  },
  "language_info": {
   "codemirror_mode": {
    "name": "ipython",
    "version": 3
   },
   "file_extension": ".py",
   "mimetype": "text/x-python",
   "name": "python",
   "nbconvert_exporter": "python",
   "pygments_lexer": "ipython3",
   "version": "3.11.13"
  }
 },
 "nbformat": 4,
 "nbformat_minor": 4
}
